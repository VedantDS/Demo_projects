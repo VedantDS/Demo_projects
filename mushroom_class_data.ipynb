{
 "cells": [
  {
   "cell_type": "code",
   "execution_count": 43,
   "metadata": {},
   "outputs": [],
   "source": [
    "import pandas as pd\n",
    "import numpy as np\n",
    "import matplotlib.pyplot as plt\n",
    "import seaborn as sb\n",
    "from sklearn.model_selection import train_test_split\n",
    "from sklearn.model_selection import KFold\n",
    "from sklearn.ensemble import RandomForestClassifier\n",
    "from sklearn.ensemble import AdaBoostClassifier\n",
    "from sklearn.ensemble import GradientBoostingClassifier\n",
    "from sklearn.svm import SVC\n",
    "import xgboost \n",
    "from sklearn.linear_model import LogisticRegression\n",
    "from sklearn.neighbors import KNeighborsClassifier\n",
    "from sklearn.model_selection import cross_val_score\n",
    "from sklearn.naive_bayes import GaussianNB\n",
    "from sklearn.linear_model import LinearRegression\n",
    "from sklearn.metrics import accuracy_score\n",
    "from sklearn.model_selection import GridSearchCV\n",
    "from sklearn.metrics import classification_report\n",
    "from sklearn.metrics import confusion_matrix\n",
    "from sklearn.feature_selection import SelectKBest, chi2\n",
    "from sklearn.preprocessing import OneHotEncoder\n",
    "from sklearn.model_selection import RandomizedSearchCV"
   ]
  },
  {
   "cell_type": "code",
   "execution_count": 44,
   "metadata": {
    "scrolled": true
   },
   "outputs": [
    {
     "data": {
      "text/html": [
       "<div>\n",
       "<style scoped>\n",
       "    .dataframe tbody tr th:only-of-type {\n",
       "        vertical-align: middle;\n",
       "    }\n",
       "\n",
       "    .dataframe tbody tr th {\n",
       "        vertical-align: top;\n",
       "    }\n",
       "\n",
       "    .dataframe thead th {\n",
       "        text-align: right;\n",
       "    }\n",
       "</style>\n",
       "<table border=\"1\" class=\"dataframe\">\n",
       "  <thead>\n",
       "    <tr style=\"text-align: right;\">\n",
       "      <th></th>\n",
       "      <th>class</th>\n",
       "      <th>cap-shape</th>\n",
       "      <th>cap-surface</th>\n",
       "      <th>cap-color</th>\n",
       "      <th>bruises</th>\n",
       "      <th>odor</th>\n",
       "      <th>gill-attachment</th>\n",
       "      <th>gill-spacing</th>\n",
       "      <th>gill-size</th>\n",
       "      <th>gill-color</th>\n",
       "      <th>...</th>\n",
       "      <th>stalk-surface-below-ring</th>\n",
       "      <th>stalk-color-above-ring</th>\n",
       "      <th>stalk-color-below-ring</th>\n",
       "      <th>veil-type</th>\n",
       "      <th>veil-color</th>\n",
       "      <th>ring-number</th>\n",
       "      <th>ring-type</th>\n",
       "      <th>spore-print-color</th>\n",
       "      <th>population</th>\n",
       "      <th>habitat</th>\n",
       "    </tr>\n",
       "  </thead>\n",
       "  <tbody>\n",
       "    <tr>\n",
       "      <th>0</th>\n",
       "      <td>p</td>\n",
       "      <td>x</td>\n",
       "      <td>s</td>\n",
       "      <td>n</td>\n",
       "      <td>t</td>\n",
       "      <td>p</td>\n",
       "      <td>f</td>\n",
       "      <td>c</td>\n",
       "      <td>n</td>\n",
       "      <td>k</td>\n",
       "      <td>...</td>\n",
       "      <td>s</td>\n",
       "      <td>w</td>\n",
       "      <td>w</td>\n",
       "      <td>p</td>\n",
       "      <td>w</td>\n",
       "      <td>o</td>\n",
       "      <td>p</td>\n",
       "      <td>k</td>\n",
       "      <td>s</td>\n",
       "      <td>u</td>\n",
       "    </tr>\n",
       "    <tr>\n",
       "      <th>1</th>\n",
       "      <td>e</td>\n",
       "      <td>x</td>\n",
       "      <td>s</td>\n",
       "      <td>y</td>\n",
       "      <td>t</td>\n",
       "      <td>a</td>\n",
       "      <td>f</td>\n",
       "      <td>c</td>\n",
       "      <td>b</td>\n",
       "      <td>k</td>\n",
       "      <td>...</td>\n",
       "      <td>s</td>\n",
       "      <td>w</td>\n",
       "      <td>w</td>\n",
       "      <td>p</td>\n",
       "      <td>w</td>\n",
       "      <td>o</td>\n",
       "      <td>p</td>\n",
       "      <td>n</td>\n",
       "      <td>n</td>\n",
       "      <td>g</td>\n",
       "    </tr>\n",
       "    <tr>\n",
       "      <th>2</th>\n",
       "      <td>e</td>\n",
       "      <td>b</td>\n",
       "      <td>s</td>\n",
       "      <td>w</td>\n",
       "      <td>t</td>\n",
       "      <td>l</td>\n",
       "      <td>f</td>\n",
       "      <td>c</td>\n",
       "      <td>b</td>\n",
       "      <td>n</td>\n",
       "      <td>...</td>\n",
       "      <td>s</td>\n",
       "      <td>w</td>\n",
       "      <td>w</td>\n",
       "      <td>p</td>\n",
       "      <td>w</td>\n",
       "      <td>o</td>\n",
       "      <td>p</td>\n",
       "      <td>n</td>\n",
       "      <td>n</td>\n",
       "      <td>m</td>\n",
       "    </tr>\n",
       "    <tr>\n",
       "      <th>3</th>\n",
       "      <td>p</td>\n",
       "      <td>x</td>\n",
       "      <td>y</td>\n",
       "      <td>w</td>\n",
       "      <td>t</td>\n",
       "      <td>p</td>\n",
       "      <td>f</td>\n",
       "      <td>c</td>\n",
       "      <td>n</td>\n",
       "      <td>n</td>\n",
       "      <td>...</td>\n",
       "      <td>s</td>\n",
       "      <td>w</td>\n",
       "      <td>w</td>\n",
       "      <td>p</td>\n",
       "      <td>w</td>\n",
       "      <td>o</td>\n",
       "      <td>p</td>\n",
       "      <td>k</td>\n",
       "      <td>s</td>\n",
       "      <td>u</td>\n",
       "    </tr>\n",
       "    <tr>\n",
       "      <th>4</th>\n",
       "      <td>e</td>\n",
       "      <td>x</td>\n",
       "      <td>s</td>\n",
       "      <td>g</td>\n",
       "      <td>f</td>\n",
       "      <td>n</td>\n",
       "      <td>f</td>\n",
       "      <td>w</td>\n",
       "      <td>b</td>\n",
       "      <td>k</td>\n",
       "      <td>...</td>\n",
       "      <td>s</td>\n",
       "      <td>w</td>\n",
       "      <td>w</td>\n",
       "      <td>p</td>\n",
       "      <td>w</td>\n",
       "      <td>o</td>\n",
       "      <td>e</td>\n",
       "      <td>n</td>\n",
       "      <td>a</td>\n",
       "      <td>g</td>\n",
       "    </tr>\n",
       "  </tbody>\n",
       "</table>\n",
       "<p>5 rows × 23 columns</p>\n",
       "</div>"
      ],
      "text/plain": [
       "  class cap-shape cap-surface cap-color bruises odor gill-attachment  \\\n",
       "0     p         x           s         n       t    p               f   \n",
       "1     e         x           s         y       t    a               f   \n",
       "2     e         b           s         w       t    l               f   \n",
       "3     p         x           y         w       t    p               f   \n",
       "4     e         x           s         g       f    n               f   \n",
       "\n",
       "  gill-spacing gill-size gill-color  ... stalk-surface-below-ring  \\\n",
       "0            c         n          k  ...                        s   \n",
       "1            c         b          k  ...                        s   \n",
       "2            c         b          n  ...                        s   \n",
       "3            c         n          n  ...                        s   \n",
       "4            w         b          k  ...                        s   \n",
       "\n",
       "  stalk-color-above-ring stalk-color-below-ring veil-type veil-color  \\\n",
       "0                      w                      w         p          w   \n",
       "1                      w                      w         p          w   \n",
       "2                      w                      w         p          w   \n",
       "3                      w                      w         p          w   \n",
       "4                      w                      w         p          w   \n",
       "\n",
       "  ring-number ring-type spore-print-color population habitat  \n",
       "0           o         p                 k          s       u  \n",
       "1           o         p                 n          n       g  \n",
       "2           o         p                 n          n       m  \n",
       "3           o         p                 k          s       u  \n",
       "4           o         e                 n          a       g  \n",
       "\n",
       "[5 rows x 23 columns]"
      ]
     },
     "execution_count": 44,
     "metadata": {},
     "output_type": "execute_result"
    }
   ],
   "source": [
    "mush = pd.read_csv('mushrooms.csv')\n",
    "mush.head()"
   ]
  },
  {
   "cell_type": "markdown",
   "metadata": {},
   "source": [
    "### EDA and data-preprocessing"
   ]
  },
  {
   "cell_type": "code",
   "execution_count": 45,
   "metadata": {},
   "outputs": [
    {
     "data": {
      "text/plain": [
       "class                       0\n",
       "cap-shape                   0\n",
       "cap-surface                 0\n",
       "cap-color                   0\n",
       "bruises                     0\n",
       "odor                        0\n",
       "gill-attachment             0\n",
       "gill-spacing                0\n",
       "gill-size                   0\n",
       "gill-color                  0\n",
       "stalk-shape                 0\n",
       "stalk-root                  0\n",
       "stalk-surface-above-ring    0\n",
       "stalk-surface-below-ring    0\n",
       "stalk-color-above-ring      0\n",
       "stalk-color-below-ring      0\n",
       "veil-type                   0\n",
       "veil-color                  0\n",
       "ring-number                 0\n",
       "ring-type                   0\n",
       "spore-print-color           0\n",
       "population                  0\n",
       "habitat                     0\n",
       "dtype: int64"
      ]
     },
     "execution_count": 45,
     "metadata": {},
     "output_type": "execute_result"
    }
   ],
   "source": [
    "mush.isnull().sum()"
   ]
  },
  {
   "cell_type": "code",
   "execution_count": 46,
   "metadata": {},
   "outputs": [],
   "source": [
    "def bar_chart(feature):\n",
    "    sb.set_style('whitegrid')\n",
    "    poisonous = mush[mush['class'] == 'p'][feature].value_counts()\n",
    "    edible = mush[mush['class'] == 'e'][feature].value_counts()\n",
    "    df = pd.DataFrame([poisonous,edible])\n",
    "    df.index = ['poisonous','edible']\n",
    "    df.plot(kind = 'bar', stacked = True, figsize = (10,5))\n",
    "    "
   ]
  },
  {
   "cell_type": "code",
   "execution_count": 47,
   "metadata": {},
   "outputs": [
    {
     "data": {
      "image/png": "[encoded data removed]",
      "text/plain": [
       "<Figure size 720x360 with 1 Axes>"
      ]
     },
     "metadata": {},
     "output_type": "display_data"
    }
   ],
   "source": [
    "bar_chart('cap-shape')"
   ]
  },
  {
   "cell_type": "code",
   "execution_count": 48,
   "metadata": {},
   "outputs": [
    {
     "data": {
      "text/html": [
       "<div>\n",
       "<style scoped>\n",
       "    .dataframe tbody tr th:only-of-type {\n",
       "        vertical-align: middle;\n",
       "    }\n",
       "\n",
       "    .dataframe tbody tr th {\n",
       "        vertical-align: top;\n",
       "    }\n",
       "\n",
       "    .dataframe thead th {\n",
       "        text-align: right;\n",
       "    }\n",
       "</style>\n",
       "<table border=\"1\" class=\"dataframe\">\n",
       "  <thead>\n",
       "    <tr style=\"text-align: right;\">\n",
       "      <th></th>\n",
       "      <th>class</th>\n",
       "      <th>cap-shape</th>\n",
       "      <th>cap-surface</th>\n",
       "      <th>cap-color</th>\n",
       "      <th>bruises</th>\n",
       "      <th>odor</th>\n",
       "      <th>gill-attachment</th>\n",
       "      <th>gill-spacing</th>\n",
       "      <th>gill-size</th>\n",
       "      <th>gill-color</th>\n",
       "      <th>...</th>\n",
       "      <th>stalk-surface-below-ring</th>\n",
       "      <th>stalk-color-above-ring</th>\n",
       "      <th>stalk-color-below-ring</th>\n",
       "      <th>veil-type</th>\n",
       "      <th>veil-color</th>\n",
       "      <th>ring-number</th>\n",
       "      <th>ring-type</th>\n",
       "      <th>spore-print-color</th>\n",
       "      <th>population</th>\n",
       "      <th>habitat</th>\n",
       "    </tr>\n",
       "  </thead>\n",
       "  <tbody>\n",
       "    <tr>\n",
       "      <th>count</th>\n",
       "      <td>8124</td>\n",
       "      <td>8124</td>\n",
       "      <td>8124</td>\n",
       "      <td>8124</td>\n",
       "      <td>8124</td>\n",
       "      <td>8124</td>\n",
       "      <td>8124</td>\n",
       "      <td>8124</td>\n",
       "      <td>8124</td>\n",
       "      <td>8124</td>\n",
       "      <td>...</td>\n",
       "      <td>8124</td>\n",
       "      <td>8124</td>\n",
       "      <td>8124</td>\n",
       "      <td>8124</td>\n",
       "      <td>8124</td>\n",
       "      <td>8124</td>\n",
       "      <td>8124</td>\n",
       "      <td>8124</td>\n",
       "      <td>8124</td>\n",
       "      <td>8124</td>\n",
       "    </tr>\n",
       "    <tr>\n",
       "      <th>unique</th>\n",
       "      <td>2</td>\n",
       "      <td>6</td>\n",
       "      <td>4</td>\n",
       "      <td>10</td>\n",
       "      <td>2</td>\n",
       "      <td>9</td>\n",
       "      <td>2</td>\n",
       "      <td>2</td>\n",
       "      <td>2</td>\n",
       "      <td>12</td>\n",
       "      <td>...</td>\n",
       "      <td>4</td>\n",
       "      <td>9</td>\n",
       "      <td>9</td>\n",
       "      <td>1</td>\n",
       "      <td>4</td>\n",
       "      <td>3</td>\n",
       "      <td>5</td>\n",
       "      <td>9</td>\n",
       "      <td>6</td>\n",
       "      <td>7</td>\n",
       "    </tr>\n",
       "    <tr>\n",
       "      <th>top</th>\n",
       "      <td>e</td>\n",
       "      <td>x</td>\n",
       "      <td>y</td>\n",
       "      <td>n</td>\n",
       "      <td>f</td>\n",
       "      <td>n</td>\n",
       "      <td>f</td>\n",
       "      <td>c</td>\n",
       "      <td>b</td>\n",
       "      <td>b</td>\n",
       "      <td>...</td>\n",
       "      <td>s</td>\n",
       "      <td>w</td>\n",
       "      <td>w</td>\n",
       "      <td>p</td>\n",
       "      <td>w</td>\n",
       "      <td>o</td>\n",
       "      <td>p</td>\n",
       "      <td>w</td>\n",
       "      <td>v</td>\n",
       "      <td>d</td>\n",
       "    </tr>\n",
       "    <tr>\n",
       "      <th>freq</th>\n",
       "      <td>4208</td>\n",
       "      <td>3656</td>\n",
       "      <td>3244</td>\n",
       "      <td>2284</td>\n",
       "      <td>4748</td>\n",
       "      <td>3528</td>\n",
       "      <td>7914</td>\n",
       "      <td>6812</td>\n",
       "      <td>5612</td>\n",
       "      <td>1728</td>\n",
       "      <td>...</td>\n",
       "      <td>4936</td>\n",
       "      <td>4464</td>\n",
       "      <td>4384</td>\n",
       "      <td>8124</td>\n",
       "      <td>7924</td>\n",
       "      <td>7488</td>\n",
       "      <td>3968</td>\n",
       "      <td>2388</td>\n",
       "      <td>4040</td>\n",
       "      <td>3148</td>\n",
       "    </tr>\n",
       "  </tbody>\n",
       "</table>\n",
       "<p>4 rows × 23 columns</p>\n",
       "</div>"
      ],
      "text/plain": [
       "       class cap-shape cap-surface cap-color bruises  odor gill-attachment  \\\n",
       "count   8124      8124        8124      8124    8124  8124            8124   \n",
       "unique     2         6           4        10       2     9               2   \n",
       "top        e         x           y         n       f     n               f   \n",
       "freq    4208      3656        3244      2284    4748  3528            7914   \n",
       "\n",
       "       gill-spacing gill-size gill-color  ... stalk-surface-below-ring  \\\n",
       "count          8124      8124       8124  ...                     8124   \n",
       "unique            2         2         12  ...                        4   \n",
       "top               c         b          b  ...                        s   \n",
       "freq           6812      5612       1728  ...                     4936   \n",
       "\n",
       "       stalk-color-above-ring stalk-color-below-ring veil-type veil-color  \\\n",
       "count                    8124                   8124      8124       8124   \n",
       "unique                      9                      9         1          4   \n",
       "top                         w                      w         p          w   \n",
       "freq                     4464                   4384      8124       7924   \n",
       "\n",
       "       ring-number ring-type spore-print-color population habitat  \n",
       "count         8124      8124              8124       8124    8124  \n",
       "unique           3         5                 9          6       7  \n",
       "top              o         p                 w          v       d  \n",
       "freq          7488      3968              2388       4040    3148  \n",
       "\n",
       "[4 rows x 23 columns]"
      ]
     },
     "execution_count": 48,
     "metadata": {},
     "output_type": "execute_result"
    }
   ],
   "source": [
    "mush.describe()"
   ]
  },
  {
   "cell_type": "code",
   "execution_count": 49,
   "metadata": {},
   "outputs": [],
   "source": [
    "x =  mush.drop(['class'], 1)\n",
    "y =  mush['class']"
   ]
  },
  {
   "cell_type": "code",
   "execution_count": 50,
   "metadata": {},
   "outputs": [],
   "source": [
    "encoder = OneHotEncoder(sparse = False)"
   ]
  },
  {
   "cell_type": "code",
   "execution_count": 51,
   "metadata": {},
   "outputs": [],
   "source": [
    "x_en = encoder.fit_transform(x)"
   ]
  },
  {
   "cell_type": "code",
   "execution_count": 52,
   "metadata": {},
   "outputs": [
    {
     "data": {
      "text/plain": [
       "(8124, 117)"
      ]
     },
     "execution_count": 52,
     "metadata": {},
     "output_type": "execute_result"
    }
   ],
   "source": [
    "x_en.shape"
   ]
  },
  {
   "cell_type": "code",
   "execution_count": 53,
   "metadata": {},
   "outputs": [
    {
     "data": {
      "text/plain": [
       "array(['cap-shape_b', 'cap-shape_c', 'cap-shape_f', 'cap-shape_k',\n",
       "       'cap-shape_s', 'cap-shape_x', 'cap-surface_f', 'cap-surface_g',\n",
       "       'cap-surface_s', 'cap-surface_y', 'cap-color_b', 'cap-color_c',\n",
       "       'cap-color_e', 'cap-color_g', 'cap-color_n', 'cap-color_p',\n",
       "       'cap-color_r', 'cap-color_u', 'cap-color_w', 'cap-color_y',\n",
       "       'bruises_f', 'bruises_t', 'odor_a', 'odor_c', 'odor_f', 'odor_l',\n",
       "       'odor_m', 'odor_n', 'odor_p', 'odor_s', 'odor_y',\n",
       "       'gill-attachment_a', 'gill-attachment_f', 'gill-spacing_c',\n",
       "       'gill-spacing_w', 'gill-size_b', 'gill-size_n', 'gill-color_b',\n",
       "       'gill-color_e', 'gill-color_g', 'gill-color_h', 'gill-color_k',\n",
       "       'gill-color_n', 'gill-color_o', 'gill-color_p', 'gill-color_r',\n",
       "       'gill-color_u', 'gill-color_w', 'gill-color_y', 'stalk-shape_e',\n",
       "       'stalk-shape_t', 'stalk-root_?', 'stalk-root_b', 'stalk-root_c',\n",
       "       'stalk-root_e', 'stalk-root_r', 'stalk-surface-above-ring_f',\n",
       "       'stalk-surface-above-ring_k', 'stalk-surface-above-ring_s',\n",
       "       'stalk-surface-above-ring_y', 'stalk-surface-below-ring_f',\n",
       "       'stalk-surface-below-ring_k', 'stalk-surface-below-ring_s',\n",
       "       'stalk-surface-below-ring_y', 'stalk-color-above-ring_b',\n",
       "       'stalk-color-above-ring_c', 'stalk-color-above-ring_e',\n",
       "       'stalk-color-above-ring_g', 'stalk-color-above-ring_n',\n",
       "       'stalk-color-above-ring_o', 'stalk-color-above-ring_p',\n",
       "       'stalk-color-above-ring_w', 'stalk-color-above-ring_y',\n",
       "       'stalk-color-below-ring_b', 'stalk-color-below-ring_c',\n",
       "       'stalk-color-below-ring_e', 'stalk-color-below-ring_g',\n",
       "       'stalk-color-below-ring_n', 'stalk-color-below-ring_o',\n",
       "       'stalk-color-below-ring_p', 'stalk-color-below-ring_w',\n",
       "       'stalk-color-below-ring_y', 'veil-type_p', 'veil-color_n',\n",
       "       'veil-color_o', 'veil-color_w', 'veil-color_y', 'ring-number_n',\n",
       "       'ring-number_o', 'ring-number_t', 'ring-type_e', 'ring-type_f',\n",
       "       'ring-type_l', 'ring-type_n', 'ring-type_p', 'spore-print-color_b',\n",
       "       'spore-print-color_h', 'spore-print-color_k',\n",
       "       'spore-print-color_n', 'spore-print-color_o',\n",
       "       'spore-print-color_r', 'spore-print-color_u',\n",
       "       'spore-print-color_w', 'spore-print-color_y', 'population_a',\n",
       "       'population_c', 'population_n', 'population_s', 'population_v',\n",
       "       'population_y', 'habitat_d', 'habitat_g', 'habitat_l', 'habitat_m',\n",
       "       'habitat_p', 'habitat_u', 'habitat_w'], dtype=object)"
      ]
     },
     "execution_count": 53,
     "metadata": {},
     "output_type": "execute_result"
    }
   ],
   "source": [
    "encoder.get_feature_names(x.columns)"
   ]
  },
  {
   "cell_type": "code",
   "execution_count": 54,
   "metadata": {},
   "outputs": [],
   "source": [
    "x_en = pd.DataFrame(x_en, columns = encoder.get_feature_names(x.columns) )"
   ]
  },
  {
   "cell_type": "code",
   "execution_count": 55,
   "metadata": {},
   "outputs": [
    {
     "data": {
      "text/plain": [
       "(8124, 117)"
      ]
     },
     "execution_count": 55,
     "metadata": {},
     "output_type": "execute_result"
    }
   ],
   "source": [
    "x_en.shape"
   ]
  },
  {
   "cell_type": "code",
   "execution_count": 56,
   "metadata": {},
   "outputs": [],
   "source": [
    "x_train, x_test, y_train, y_test = train_test_split(x_en , y,\n",
    "                                                   test_size = 0.3, random_state = 42)"
   ]
  },
  {
   "cell_type": "code",
   "execution_count": 57,
   "metadata": {},
   "outputs": [
    {
     "data": {
      "text/plain": [
       "((5686, 117), (2438, 117), (5686,), (2438,))"
      ]
     },
     "execution_count": 57,
     "metadata": {},
     "output_type": "execute_result"
    }
   ],
   "source": [
    "x_train.shape , x_test.shape, y_train.shape, y_test.shape"
   ]
  },
  {
   "cell_type": "code",
   "execution_count": 58,
   "metadata": {},
   "outputs": [],
   "source": [
    "selector = SelectKBest(chi2, k = 20).fit(x_train, y_train)"
   ]
  },
  {
   "cell_type": "code",
   "execution_count": 59,
   "metadata": {},
   "outputs": [
    {
     "data": {
      "text/html": [
       "<div>\n",
       "<style scoped>\n",
       "    .dataframe tbody tr th:only-of-type {\n",
       "        vertical-align: middle;\n",
       "    }\n",
       "\n",
       "    .dataframe tbody tr th {\n",
       "        vertical-align: top;\n",
       "    }\n",
       "\n",
       "    .dataframe thead th {\n",
       "        text-align: right;\n",
       "    }\n",
       "</style>\n",
       "<table border=\"1\" class=\"dataframe\">\n",
       "  <thead>\n",
       "    <tr style=\"text-align: right;\">\n",
       "      <th></th>\n",
       "      <th>Feature</th>\n",
       "      <th>Scores</th>\n",
       "    </tr>\n",
       "  </thead>\n",
       "  <tbody>\n",
       "    <tr>\n",
       "      <th>27</th>\n",
       "      <td>odor_n</td>\n",
       "      <td>2010.768674</td>\n",
       "    </tr>\n",
       "    <tr>\n",
       "      <th>24</th>\n",
       "      <td>odor_f</td>\n",
       "      <td>1636.806947</td>\n",
       "    </tr>\n",
       "    <tr>\n",
       "      <th>57</th>\n",
       "      <td>stalk-surface-above-ring_k</td>\n",
       "      <td>1430.104897</td>\n",
       "    </tr>\n",
       "    <tr>\n",
       "      <th>61</th>\n",
       "      <td>stalk-surface-below-ring_k</td>\n",
       "      <td>1352.982930</td>\n",
       "    </tr>\n",
       "    <tr>\n",
       "      <th>37</th>\n",
       "      <td>gill-color_b</td>\n",
       "      <td>1312.035101</td>\n",
       "    </tr>\n",
       "    <tr>\n",
       "      <th>36</th>\n",
       "      <td>gill-size_n</td>\n",
       "      <td>1165.836625</td>\n",
       "    </tr>\n",
       "    <tr>\n",
       "      <th>96</th>\n",
       "      <td>spore-print-color_h</td>\n",
       "      <td>1083.148644</td>\n",
       "    </tr>\n",
       "    <tr>\n",
       "      <th>92</th>\n",
       "      <td>ring-type_l</td>\n",
       "      <td>974.315539</td>\n",
       "    </tr>\n",
       "    <tr>\n",
       "      <th>21</th>\n",
       "      <td>bruises_t</td>\n",
       "      <td>861.664698</td>\n",
       "    </tr>\n",
       "    <tr>\n",
       "      <th>94</th>\n",
       "      <td>ring-type_p</td>\n",
       "      <td>856.632941</td>\n",
       "    </tr>\n",
       "    <tr>\n",
       "      <th>98</th>\n",
       "      <td>spore-print-color_n</td>\n",
       "      <td>771.729093</td>\n",
       "    </tr>\n",
       "    <tr>\n",
       "      <th>97</th>\n",
       "      <td>spore-print-color_k</td>\n",
       "      <td>673.735868</td>\n",
       "    </tr>\n",
       "    <tr>\n",
       "      <th>20</th>\n",
       "      <td>bruises_f</td>\n",
       "      <td>613.177407</td>\n",
       "    </tr>\n",
       "    <tr>\n",
       "      <th>108</th>\n",
       "      <td>population_v</td>\n",
       "      <td>559.439225</td>\n",
       "    </tr>\n",
       "    <tr>\n",
       "      <th>34</th>\n",
       "      <td>gill-spacing_w</td>\n",
       "      <td>558.797505</td>\n",
       "    </tr>\n",
       "    <tr>\n",
       "      <th>114</th>\n",
       "      <td>habitat_p</td>\n",
       "      <td>520.274484</td>\n",
       "    </tr>\n",
       "    <tr>\n",
       "      <th>35</th>\n",
       "      <td>gill-size_b</td>\n",
       "      <td>516.210330</td>\n",
       "    </tr>\n",
       "    <tr>\n",
       "      <th>58</th>\n",
       "      <td>stalk-surface-above-ring_s</td>\n",
       "      <td>512.139146</td>\n",
       "    </tr>\n",
       "    <tr>\n",
       "      <th>102</th>\n",
       "      <td>spore-print-color_w</td>\n",
       "      <td>510.532513</td>\n",
       "    </tr>\n",
       "    <tr>\n",
       "      <th>29</th>\n",
       "      <td>odor_s</td>\n",
       "      <td>442.380256</td>\n",
       "    </tr>\n",
       "    <tr>\n",
       "      <th>42</th>\n",
       "      <td>gill-color_n</td>\n",
       "      <td>429.667702</td>\n",
       "    </tr>\n",
       "    <tr>\n",
       "      <th>30</th>\n",
       "      <td>odor_y</td>\n",
       "      <td>425.116636</td>\n",
       "    </tr>\n",
       "    <tr>\n",
       "      <th>62</th>\n",
       "      <td>stalk-surface-below-ring_s</td>\n",
       "      <td>417.684617</td>\n",
       "    </tr>\n",
       "    <tr>\n",
       "      <th>67</th>\n",
       "      <td>stalk-color-above-ring_g</td>\n",
       "      <td>382.770247</td>\n",
       "    </tr>\n",
       "    <tr>\n",
       "      <th>76</th>\n",
       "      <td>stalk-color-below-ring_g</td>\n",
       "      <td>373.502203</td>\n",
       "    </tr>\n",
       "    <tr>\n",
       "      <th>51</th>\n",
       "      <td>stalk-root_?</td>\n",
       "      <td>352.566068</td>\n",
       "    </tr>\n",
       "    <tr>\n",
       "      <th>73</th>\n",
       "      <td>stalk-color-below-ring_b</td>\n",
       "      <td>331.245704</td>\n",
       "    </tr>\n",
       "    <tr>\n",
       "      <th>64</th>\n",
       "      <td>stalk-color-above-ring_b</td>\n",
       "      <td>325.850823</td>\n",
       "    </tr>\n",
       "    <tr>\n",
       "      <th>68</th>\n",
       "      <td>stalk-color-above-ring_n</td>\n",
       "      <td>293.530645</td>\n",
       "    </tr>\n",
       "    <tr>\n",
       "      <th>47</th>\n",
       "      <td>gill-color_w</td>\n",
       "      <td>287.286029</td>\n",
       "    </tr>\n",
       "  </tbody>\n",
       "</table>\n",
       "</div>"
      ],
      "text/plain": [
       "                        Feature       Scores\n",
       "27                       odor_n  2010.768674\n",
       "24                       odor_f  1636.806947\n",
       "57   stalk-surface-above-ring_k  1430.104897\n",
       "61   stalk-surface-below-ring_k  1352.982930\n",
       "37                 gill-color_b  1312.035101\n",
       "36                  gill-size_n  1165.836625\n",
       "96          spore-print-color_h  1083.148644\n",
       "92                  ring-type_l   974.315539\n",
       "21                    bruises_t   861.664698\n",
       "94                  ring-type_p   856.632941\n",
       "98          spore-print-color_n   771.729093\n",
       "97          spore-print-color_k   673.735868\n",
       "20                    bruises_f   613.177407\n",
       "108                population_v   559.439225\n",
       "34               gill-spacing_w   558.797505\n",
       "114                   habitat_p   520.274484\n",
       "35                  gill-size_b   516.210330\n",
       "58   stalk-surface-above-ring_s   512.139146\n",
       "102         spore-print-color_w   510.532513\n",
       "29                       odor_s   442.380256\n",
       "42                 gill-color_n   429.667702\n",
       "30                       odor_y   425.116636\n",
       "62   stalk-surface-below-ring_s   417.684617\n",
       "67     stalk-color-above-ring_g   382.770247\n",
       "76     stalk-color-below-ring_g   373.502203\n",
       "51                 stalk-root_?   352.566068\n",
       "73     stalk-color-below-ring_b   331.245704\n",
       "64     stalk-color-above-ring_b   325.850823\n",
       "68     stalk-color-above-ring_n   293.530645\n",
       "47                 gill-color_w   287.286029"
      ]
     },
     "execution_count": 59,
     "metadata": {},
     "output_type": "execute_result"
    }
   ],
   "source": [
    "selector = pd.DataFrame(dict(Feature = list(x_train.columns), Scores = selector.scores_))\n",
    "\n",
    "selector.sort_values(by = 'Scores', ascending = False ).head(30)"
   ]
  },
  {
   "cell_type": "code",
   "execution_count": 60,
   "metadata": {
    "scrolled": true
   },
   "outputs": [
    {
     "data": {
      "text/html": [
       "<div>\n",
       "<style scoped>\n",
       "    .dataframe tbody tr th:only-of-type {\n",
       "        vertical-align: middle;\n",
       "    }\n",
       "\n",
       "    .dataframe tbody tr th {\n",
       "        vertical-align: top;\n",
       "    }\n",
       "\n",
       "    .dataframe thead th {\n",
       "        text-align: right;\n",
       "    }\n",
       "</style>\n",
       "<table border=\"1\" class=\"dataframe\">\n",
       "  <thead>\n",
       "    <tr style=\"text-align: right;\">\n",
       "      <th></th>\n",
       "      <th>Feature</th>\n",
       "      <th>Scores</th>\n",
       "    </tr>\n",
       "  </thead>\n",
       "  <tbody>\n",
       "    <tr>\n",
       "      <th>27</th>\n",
       "      <td>odor_n</td>\n",
       "      <td>2010.768674</td>\n",
       "    </tr>\n",
       "    <tr>\n",
       "      <th>24</th>\n",
       "      <td>odor_f</td>\n",
       "      <td>1636.806947</td>\n",
       "    </tr>\n",
       "    <tr>\n",
       "      <th>57</th>\n",
       "      <td>stalk-surface-above-ring_k</td>\n",
       "      <td>1430.104897</td>\n",
       "    </tr>\n",
       "    <tr>\n",
       "      <th>61</th>\n",
       "      <td>stalk-surface-below-ring_k</td>\n",
       "      <td>1352.982930</td>\n",
       "    </tr>\n",
       "    <tr>\n",
       "      <th>37</th>\n",
       "      <td>gill-color_b</td>\n",
       "      <td>1312.035101</td>\n",
       "    </tr>\n",
       "    <tr>\n",
       "      <th>36</th>\n",
       "      <td>gill-size_n</td>\n",
       "      <td>1165.836625</td>\n",
       "    </tr>\n",
       "    <tr>\n",
       "      <th>96</th>\n",
       "      <td>spore-print-color_h</td>\n",
       "      <td>1083.148644</td>\n",
       "    </tr>\n",
       "    <tr>\n",
       "      <th>92</th>\n",
       "      <td>ring-type_l</td>\n",
       "      <td>974.315539</td>\n",
       "    </tr>\n",
       "    <tr>\n",
       "      <th>21</th>\n",
       "      <td>bruises_t</td>\n",
       "      <td>861.664698</td>\n",
       "    </tr>\n",
       "    <tr>\n",
       "      <th>94</th>\n",
       "      <td>ring-type_p</td>\n",
       "      <td>856.632941</td>\n",
       "    </tr>\n",
       "    <tr>\n",
       "      <th>98</th>\n",
       "      <td>spore-print-color_n</td>\n",
       "      <td>771.729093</td>\n",
       "    </tr>\n",
       "    <tr>\n",
       "      <th>97</th>\n",
       "      <td>spore-print-color_k</td>\n",
       "      <td>673.735868</td>\n",
       "    </tr>\n",
       "    <tr>\n",
       "      <th>20</th>\n",
       "      <td>bruises_f</td>\n",
       "      <td>613.177407</td>\n",
       "    </tr>\n",
       "    <tr>\n",
       "      <th>108</th>\n",
       "      <td>population_v</td>\n",
       "      <td>559.439225</td>\n",
       "    </tr>\n",
       "    <tr>\n",
       "      <th>34</th>\n",
       "      <td>gill-spacing_w</td>\n",
       "      <td>558.797505</td>\n",
       "    </tr>\n",
       "    <tr>\n",
       "      <th>114</th>\n",
       "      <td>habitat_p</td>\n",
       "      <td>520.274484</td>\n",
       "    </tr>\n",
       "  </tbody>\n",
       "</table>\n",
       "</div>"
      ],
      "text/plain": [
       "                        Feature       Scores\n",
       "27                       odor_n  2010.768674\n",
       "24                       odor_f  1636.806947\n",
       "57   stalk-surface-above-ring_k  1430.104897\n",
       "61   stalk-surface-below-ring_k  1352.982930\n",
       "37                 gill-color_b  1312.035101\n",
       "36                  gill-size_n  1165.836625\n",
       "96          spore-print-color_h  1083.148644\n",
       "92                  ring-type_l   974.315539\n",
       "21                    bruises_t   861.664698\n",
       "94                  ring-type_p   856.632941\n",
       "98          spore-print-color_n   771.729093\n",
       "97          spore-print-color_k   673.735868\n",
       "20                    bruises_f   613.177407\n",
       "108                population_v   559.439225\n",
       "34               gill-spacing_w   558.797505\n",
       "114                   habitat_p   520.274484"
      ]
     },
     "execution_count": 60,
     "metadata": {},
     "output_type": "execute_result"
    }
   ],
   "source": [
    "# keeping features with scores above threshold score.\n",
    "threshold = 520\n",
    "selected_features = selector[selector.Scores > threshold]\n",
    "selected_features.sort_values(by = 'Scores', ascending = False )"
   ]
  },
  {
   "cell_type": "code",
   "execution_count": 61,
   "metadata": {},
   "outputs": [
    {
     "name": "stdout",
     "output_type": "stream",
     "text": [
      "no. of selected features: 16\n"
     ]
    }
   ],
   "source": [
    "print('no. of selected features:', len(selected_features))"
   ]
  },
  {
   "cell_type": "code",
   "execution_count": 62,
   "metadata": {},
   "outputs": [],
   "source": [
    "# selecting highest scoring features for train and test set.\n",
    "x_train_red = x_train[list(selected_features['Feature'])]\n",
    "x_test_red = x_test[list(selected_features['Feature'])]"
   ]
  },
  {
   "cell_type": "code",
   "execution_count": 63,
   "metadata": {},
   "outputs": [
    {
     "data": {
      "text/plain": [
       "((5686, 16), (2438, 16))"
      ]
     },
     "execution_count": 63,
     "metadata": {},
     "output_type": "execute_result"
    }
   ],
   "source": [
    "x_train_red.shape, x_test_red.shape"
   ]
  },
  {
   "cell_type": "code",
   "execution_count": 64,
   "metadata": {},
   "outputs": [],
   "source": [
    "k = KFold(n_splits = 10, shuffle = True, random_state = 42)"
   ]
  },
  {
   "cell_type": "markdown",
   "metadata": {},
   "source": [
    "###  Base Model Evaluation"
   ]
  },
  {
   "cell_type": "code",
   "execution_count": 65,
   "metadata": {
    "scrolled": true
   },
   "outputs": [
    {
     "name": "stdout",
     "output_type": "stream",
     "text": [
      "model: RandomForestClassifier(random_state=42)\n",
      "CV score:1.0\n",
      "score_std: 0.0\n",
      "----------\n",
      "model: LogisticRegression()\n",
      "CV score:0.978366110547291\n",
      "score_std: 0.004988056327973975\n",
      "----------\n",
      "model: SVC()\n",
      "CV score:1.0\n",
      "score_std: 0.0\n",
      "----------\n",
      "model: AdaBoostClassifier()\n",
      "CV score:0.9664054184509518\n",
      "score_std: 0.006716088602079917\n",
      "----------\n",
      "model: GradientBoostingClassifier(random_state=42)\n",
      "CV score:0.9992967028886854\n",
      "score_std: 0.001166053423786785\n",
      "----------\n",
      "model: KNeighborsClassifier()\n",
      "CV score:1.0\n",
      "score_std: 0.0\n",
      "----------\n",
      "model: XGBClassifier()\n",
      "CV score:0.9968350082922843\n",
      "score_std: 0.0031244950654722627\n",
      "----------\n",
      "model: GaussianNB()\n",
      "CV score:0.9248960370306195\n",
      "score_std: 0.017140412939565315\n",
      "----------\n"
     ]
    },
    {
     "data": {
      "image/png": "[encoded data removed]",
      "text/plain": [
       "<Figure size 720x504 with 1 Axes>"
      ]
     },
     "metadata": {},
     "output_type": "display_data"
    }
   ],
   "source": [
    "rfc = RandomForestClassifier(random_state = 42)\n",
    "lgr = LogisticRegression()\n",
    "svm = SVC()\n",
    "adaboost =  AdaBoostClassifier()\n",
    "gboost = GradientBoostingClassifier(random_state = 42)\n",
    "knn = KNeighborsClassifier()\n",
    "xgb = xgboost.XGBClassifier()\n",
    "gnb = GaussianNB()\n",
    "models = [rfc, lgr, svm, adaboost, gboost, knn, xgb, gnb]\n",
    "\n",
    "scores = []\n",
    "for model in models:\n",
    "    \n",
    "    score = cross_val_score(model, x_train_red, y_train, cv = k, scoring = 'accuracy', n_jobs = -1 )\n",
    "    mean_score = score.mean()\n",
    "    std_score = score.std()\n",
    "    \n",
    "    print('model: {}'.format(model))\n",
    "    print('CV score:{}'.format(mean_score))\n",
    "    print('score_std:',std_score)\n",
    "    print('----------')\n",
    "    scores.append(score)\n",
    "    \n",
    "fig = plt.figure()\n",
    "fig.suptitle('Base model Comparison', fontsize = 15)\n",
    "ax = fig.add_subplot(111)\n",
    "plt.boxplot(scores)\n",
    "ax.set_xticklabels(['rfc', 'lgr','svm', 'adaboost', 'gboost', 'knn', 'xgb', 'gnb'],\n",
    "                  fontsize = 15)\n",
    "fig.set_size_inches(10,7)\n",
    "plt.show() "
   ]
  },
  {
   "cell_type": "raw",
   "metadata": {},
   "source": [
    "We clearly see that rfc, svm, knn scored perfect with zero mean deviation and we shall tune \n",
    "these models to address any overfitting"
   ]
  },
  {
   "cell_type": "markdown",
   "metadata": {},
   "source": [
    "### Hyper-parameter tuning"
   ]
  },
  {
   "cell_type": "code",
   "execution_count": 66,
   "metadata": {},
   "outputs": [],
   "source": [
    "param_svm = dict(kernel = ['rbf','poly','sigmoid','linear'], gamma = np.arange(0.25,3,0.25), degree = [2,3,4,5],\n",
    "             C =np.logspace(4,-4,60))\n",
    "\n",
    "param_rfc = dict(n_estimators = [10,15,20,25,30], criterion = ['gini', 'entropy'],\n",
    "                max_depth = [3,4,5,6,7,None],min_samples_split = [2,3,4],\n",
    "                min_samples_leaf = [1,2,3], random_state = [41,42,43])\n",
    "\n",
    "param_knn = dict(n_neighbors = np.arange(1,101,1), algorithm = ['auto','ball_tree','kd_tree','brute'],\n",
    "                leaf_size = [25,30,35], p = [1,2], weights = ['uniform','distance'])"
   ]
  },
  {
   "cell_type": "code",
   "execution_count": 67,
   "metadata": {},
   "outputs": [],
   "source": [
    "model_param_list = [(rfc,param_rfc), (svm,param_svm) ,(knn,param_knn)]"
   ]
  },
  {
   "cell_type": "code",
   "execution_count": 69,
   "metadata": {
    "scrolled": true
   },
   "outputs": [
    {
     "name": "stdout",
     "output_type": "stream",
     "text": [
      "model: RandomForestClassifier(random_state=42)\n",
      "best_cvscore: 0.9917321592118616\n",
      "best_param: {'random_state': 42, 'n_estimators': 15, 'min_samples_split': 3, 'min_samples_leaf': 3, 'max_depth': 7, 'criterion': 'entropy'}\n",
      "\n",
      "\n",
      "model: SVC()\n",
      "best_cvscore: 1.0\n",
      "best_param: {'kernel': 'rbf', 'gamma': 1.75, 'degree': 5, 'C': 2868.3168133420118}\n",
      "\n",
      "\n",
      "model: KNeighborsClassifier()\n",
      "best_cvscore: 1.0\n",
      "best_param: {'weights': 'distance', 'p': 2, 'n_neighbors': 93, 'leaf_size': 30, 'algorithm': 'kd_tree'}\n",
      "\n",
      "\n",
      "best_estimators: [RandomForestClassifier(criterion='entropy', max_depth=7, min_samples_leaf=3,\n",
      "                       min_samples_split=3, n_estimators=15, random_state=42), SVC(C=2868.3168133420118, degree=5, gamma=1.75), KNeighborsClassifier(algorithm='kd_tree', n_neighbors=93, weights='distance')]\n",
      "Wall time: 6.55 s\n"
     ]
    }
   ],
   "source": [
    "%%time\n",
    "best_estimator_list = []\n",
    "for model, param in model_param_list:\n",
    "    \n",
    "    r_searchcv = RandomizedSearchCV(model, param, cv = k, n_jobs = -1, scoring = 'accuracy',\n",
    "                                   random_state = 42)\n",
    "    r_searchcv.fit(x_train_red, y_train.values.ravel())\n",
    "    best_cvscore = r_searchcv.best_score_\n",
    "    best_param = r_searchcv.best_params_\n",
    "    best_estimator = r_searchcv.best_estimator_\n",
    "    best_estimator_list.append(best_estimator)\n",
    "    \n",
    "    print('model:',model)\n",
    "    print('best_cvscore:',best_cvscore)\n",
    "    print('best_param:', best_param)\n",
    "    print('\\n')\n",
    "print('best_estimators:',best_estimator_list)"
   ]
  },
  {
   "cell_type": "markdown",
   "metadata": {},
   "source": [
    "### Testing"
   ]
  },
  {
   "cell_type": "code",
   "execution_count": 70,
   "metadata": {},
   "outputs": [
    {
     "name": "stdout",
     "output_type": "stream",
     "text": [
      "model RandomForestClassifier(criterion='entropy', max_depth=7, min_samples_leaf=3,\n",
      "                       min_samples_split=3, n_estimators=15, random_state=42)\n",
      "accuracy %: 99.13823425958495\n",
      "\n",
      "\n",
      "model SVC(C=2868.3168133420118, degree=5, gamma=1.75)\n",
      "accuracy %: 100.0\n",
      "\n",
      "\n",
      "model KNeighborsClassifier(algorithm='kd_tree', n_neighbors=93, weights='distance')\n",
      "accuracy %: 100.0\n",
      "\n",
      "\n"
     ]
    }
   ],
   "source": [
    "for model in best_estimator_list:\n",
    "    model.fit(x_train_red, y_train.values.ravel())\n",
    "    y_pred = model.predict(x_train_red)\n",
    "    score = accuracy_score(y_train, y_pred)\n",
    "    print('model',model)\n",
    "    print('accuracy %:', score*100)\n",
    "    print('\\n')\n"
   ]
  },
  {
   "cell_type": "code",
   "execution_count": 71,
   "metadata": {},
   "outputs": [
    {
     "name": "stdout",
     "output_type": "stream",
     "text": [
      "model RandomForestClassifier(criterion='entropy', max_depth=7, min_samples_leaf=3,\n",
      "                       min_samples_split=3, n_estimators=15, random_state=42)\n",
      "accuracy %: 99.05660377358491\n",
      "\n",
      "\n",
      "model SVC(C=2868.3168133420118, degree=5, gamma=1.75)\n",
      "accuracy %: 100.0\n",
      "\n",
      "\n",
      "model KNeighborsClassifier(algorithm='kd_tree', n_neighbors=93, weights='distance')\n",
      "accuracy %: 100.0\n",
      "\n",
      "\n"
     ]
    }
   ],
   "source": [
    "for model in best_estimator_list:\n",
    "    model.fit(x_train_red, y_train.values.ravel())\n",
    "    y_pred = model.predict(x_test_red)\n",
    "    score = accuracy_score(y_test, y_pred)\n",
    "    print('model',model)\n",
    "    print('accuracy %:', score*100)\n",
    "    print('\\n')\n"
   ]
  }
 ],
 "metadata": {
  "kernelspec": {
   "display_name": "Python 3",
   "language": "python",
   "name": "python3"
  },
  "language_info": {
   "codemirror_mode": {
    "name": "ipython",
    "version": 3
   },
   "file_extension": ".py",
   "mimetype": "text/x-python",
   "name": "python",
   "nbconvert_exporter": "python",
   "pygments_lexer": "ipython3",
   "version": "3.7.6"
  }
 },
 "nbformat": 4,
 "nbformat_minor": 4
}
