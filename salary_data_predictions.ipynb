{
 "cells": [
  {
   "cell_type": "code",
   "execution_count": 402,
   "metadata": {},
   "outputs": [],
   "source": [
    "import pandas as pd\n",
    "import numpy as np\n",
    "import matplotlib.pyplot as plt\n",
    "from sklearn.model_selection import train_test_split\n",
    "from sklearn.metrics import r2_score\n",
    "from sklearn import metrics\n",
    "from sklearn.preprocessing import StandardScaler\n",
    "from sklearn.linear_model import LinearRegression\n",
    "from sklearn.svm import SVR\n",
    "import xgboost\n",
    "from sklearn.ensemble import RandomForestRegressor\n",
    "from sklearn.ensemble.gradient_boosting import GradientBoostingRegressor\n",
    "from sklearn.naive_bayes import GaussianNB\n",
    "from sklearn.neighbors import KNeighborsRegressor\n",
    "from sklearn.ensemble import AdaBoostRegressor\n",
    "from sklearn.model_selection import cross_val_score\n",
    "from sklearn.model_selection import KFold\n",
    "from sklearn.model_selection import RandomizedSearchCV\n",
    "from sklearn.preprocessing import LabelEncoder\n",
    "from scipy.stats import zscore\n",
    "import seaborn as sb\n",
    "import warnings\n",
    "warnings.filterwarnings('ignore')\n",
    "sb.set()"
   ]
  },
  {
   "cell_type": "code",
   "execution_count": 403,
   "metadata": {},
   "outputs": [],
   "source": [
    "ds  = pd.read_csv('employees_data.csv')"
   ]
  },
  {
   "cell_type": "code",
   "execution_count": 404,
   "metadata": {
    "scrolled": true
   },
   "outputs": [
    {
     "data": {
      "text/html": [
       "<div>\n",
       "<style scoped>\n",
       "    .dataframe tbody tr th:only-of-type {\n",
       "        vertical-align: middle;\n",
       "    }\n",
       "\n",
       "    .dataframe tbody tr th {\n",
       "        vertical-align: top;\n",
       "    }\n",
       "\n",
       "    .dataframe thead th {\n",
       "        text-align: right;\n",
       "    }\n",
       "</style>\n",
       "<table border=\"1\" class=\"dataframe\">\n",
       "  <thead>\n",
       "    <tr style=\"text-align: right;\">\n",
       "      <th></th>\n",
       "      <th>NAME</th>\n",
       "      <th>JOB TITLE</th>\n",
       "      <th>DEPARTMENT</th>\n",
       "      <th>EMPLOYEE ANNUAL SALARY</th>\n",
       "      <th>ESTIMATED ANNUAL SALARY MINUS FURLOUGHS</th>\n",
       "    </tr>\n",
       "  </thead>\n",
       "  <tbody>\n",
       "    <tr>\n",
       "      <th>0</th>\n",
       "      <td>AARON,  ELVIA J</td>\n",
       "      <td>WATER RATE TAKER</td>\n",
       "      <td>WATER MGMNT</td>\n",
       "      <td>$81000.00</td>\n",
       "      <td>$73862.00</td>\n",
       "    </tr>\n",
       "    <tr>\n",
       "      <th>1</th>\n",
       "      <td>AARON,  JEFFERY M</td>\n",
       "      <td>POLICE OFFICER</td>\n",
       "      <td>POLICE</td>\n",
       "      <td>$74628.00</td>\n",
       "      <td>$74628.00</td>\n",
       "    </tr>\n",
       "    <tr>\n",
       "      <th>2</th>\n",
       "      <td>AARON,  KIMBERLEI R</td>\n",
       "      <td>CHIEF CONTRACT EXPEDITER</td>\n",
       "      <td>FLEET MANAGEMNT</td>\n",
       "      <td>$77280.00</td>\n",
       "      <td>$70174.00</td>\n",
       "    </tr>\n",
       "    <tr>\n",
       "      <th>3</th>\n",
       "      <td>ABAD JR,  VICENTE M</td>\n",
       "      <td>CIVIL ENGINEER IV</td>\n",
       "      <td>WATER MGMNT</td>\n",
       "      <td>$96276.00</td>\n",
       "      <td>$96276.00</td>\n",
       "    </tr>\n",
       "    <tr>\n",
       "      <th>4</th>\n",
       "      <td>ABBATACOLA,  ROBERT J</td>\n",
       "      <td>ELECTRICAL MECHANIC</td>\n",
       "      <td>WATER MGMNT</td>\n",
       "      <td>$84032.00</td>\n",
       "      <td>$76627.00</td>\n",
       "    </tr>\n",
       "    <tr>\n",
       "      <th>...</th>\n",
       "      <td>...</td>\n",
       "      <td>...</td>\n",
       "      <td>...</td>\n",
       "      <td>...</td>\n",
       "      <td>...</td>\n",
       "    </tr>\n",
       "    <tr>\n",
       "      <th>34213</th>\n",
       "      <td>ZYMANTAS,  MARK E</td>\n",
       "      <td>POLICE OFFICER</td>\n",
       "      <td>POLICE</td>\n",
       "      <td>$74628.00</td>\n",
       "      <td>$74628.00</td>\n",
       "    </tr>\n",
       "    <tr>\n",
       "      <th>34214</th>\n",
       "      <td>ZYNIEWICZ,  ROBERT J</td>\n",
       "      <td>CONSTRUCTION LABORER</td>\n",
       "      <td>WATER MGMNT</td>\n",
       "      <td>$73216.00</td>\n",
       "      <td>$66764.00</td>\n",
       "    </tr>\n",
       "    <tr>\n",
       "      <th>34215</th>\n",
       "      <td>ZYRKOWSKI,  CARLO E</td>\n",
       "      <td>POLICE OFFICER</td>\n",
       "      <td>POLICE</td>\n",
       "      <td>$77238.00</td>\n",
       "      <td>$77238.00</td>\n",
       "    </tr>\n",
       "    <tr>\n",
       "      <th>34216</th>\n",
       "      <td>ZYSKO,  RICHARD</td>\n",
       "      <td>LIEUTENANT</td>\n",
       "      <td>FIRE</td>\n",
       "      <td>$101958.00</td>\n",
       "      <td>$101958.00</td>\n",
       "    </tr>\n",
       "    <tr>\n",
       "      <th>34217</th>\n",
       "      <td>ZYSKOWSKI,  DARIUSZ</td>\n",
       "      <td>CHIEF DATA BASE ANALYST</td>\n",
       "      <td>DoIT</td>\n",
       "      <td>$110352.00</td>\n",
       "      <td>$100205.00</td>\n",
       "    </tr>\n",
       "  </tbody>\n",
       "</table>\n",
       "<p>34218 rows × 5 columns</p>\n",
       "</div>"
      ],
      "text/plain": [
       "                        NAME                 JOB TITLE       DEPARTMENT  \\\n",
       "0            AARON,  ELVIA J          WATER RATE TAKER      WATER MGMNT   \n",
       "1          AARON,  JEFFERY M            POLICE OFFICER           POLICE   \n",
       "2        AARON,  KIMBERLEI R  CHIEF CONTRACT EXPEDITER  FLEET MANAGEMNT   \n",
       "3        ABAD JR,  VICENTE M         CIVIL ENGINEER IV      WATER MGMNT   \n",
       "4      ABBATACOLA,  ROBERT J       ELECTRICAL MECHANIC      WATER MGMNT   \n",
       "...                      ...                       ...              ...   \n",
       "34213      ZYMANTAS,  MARK E            POLICE OFFICER           POLICE   \n",
       "34214   ZYNIEWICZ,  ROBERT J      CONSTRUCTION LABORER      WATER MGMNT   \n",
       "34215    ZYRKOWSKI,  CARLO E            POLICE OFFICER           POLICE   \n",
       "34216        ZYSKO,  RICHARD                LIEUTENANT             FIRE   \n",
       "34217    ZYSKOWSKI,  DARIUSZ   CHIEF DATA BASE ANALYST             DoIT   \n",
       "\n",
       "      EMPLOYEE ANNUAL SALARY ESTIMATED ANNUAL SALARY MINUS FURLOUGHS  \n",
       "0                  $81000.00                               $73862.00  \n",
       "1                  $74628.00                               $74628.00  \n",
       "2                  $77280.00                               $70174.00  \n",
       "3                  $96276.00                               $96276.00  \n",
       "4                  $84032.00                               $76627.00  \n",
       "...                      ...                                     ...  \n",
       "34213              $74628.00                               $74628.00  \n",
       "34214              $73216.00                               $66764.00  \n",
       "34215              $77238.00                               $77238.00  \n",
       "34216             $101958.00                              $101958.00  \n",
       "34217             $110352.00                              $100205.00  \n",
       "\n",
       "[34218 rows x 5 columns]"
      ]
     },
     "execution_count": 404,
     "metadata": {},
     "output_type": "execute_result"
    }
   ],
   "source": [
    "ds"
   ]
  },
  {
   "cell_type": "code",
   "execution_count": 405,
   "metadata": {},
   "outputs": [
    {
     "name": "stdout",
     "output_type": "stream",
     "text": [
      "<class 'pandas.core.frame.DataFrame'>\n",
      "RangeIndex: 34218 entries, 0 to 34217\n",
      "Data columns (total 5 columns):\n",
      " #   Column                                   Non-Null Count  Dtype \n",
      "---  ------                                   --------------  ----- \n",
      " 0   NAME                                     34218 non-null  object\n",
      " 1   JOB TITLE                                34218 non-null  object\n",
      " 2   DEPARTMENT                               34218 non-null  object\n",
      " 3   EMPLOYEE ANNUAL SALARY                   34218 non-null  object\n",
      " 4   ESTIMATED ANNUAL SALARY MINUS FURLOUGHS  34218 non-null  object\n",
      "dtypes: object(5)\n",
      "memory usage: 1.3+ MB\n"
     ]
    }
   ],
   "source": [
    "ds.info()"
   ]
  },
  {
   "cell_type": "code",
   "execution_count": 406,
   "metadata": {},
   "outputs": [],
   "source": [
    "ds['EMPLOYEE ANNUAL SALARY'] = ds['EMPLOYEE ANNUAL SALARY'].str.replace(',', '').str.replace('$', '').astype(float)\n",
    "ds['ESTIMATED ANNUAL SALARY MINUS FURLOUGHS'] = ds['ESTIMATED ANNUAL SALARY MINUS FURLOUGHS'].str.replace(',', '').str.replace('$', '').astype(float)"
   ]
  },
  {
   "cell_type": "code",
   "execution_count": 407,
   "metadata": {},
   "outputs": [
    {
     "data": {
      "text/html": [
       "<div>\n",
       "<style scoped>\n",
       "    .dataframe tbody tr th:only-of-type {\n",
       "        vertical-align: middle;\n",
       "    }\n",
       "\n",
       "    .dataframe tbody tr th {\n",
       "        vertical-align: top;\n",
       "    }\n",
       "\n",
       "    .dataframe thead th {\n",
       "        text-align: right;\n",
       "    }\n",
       "</style>\n",
       "<table border=\"1\" class=\"dataframe\">\n",
       "  <thead>\n",
       "    <tr style=\"text-align: right;\">\n",
       "      <th></th>\n",
       "      <th>NAME</th>\n",
       "      <th>JOB TITLE</th>\n",
       "      <th>DEPARTMENT</th>\n",
       "      <th>EMPLOYEE ANNUAL SALARY</th>\n",
       "      <th>ESTIMATED ANNUAL SALARY MINUS FURLOUGHS</th>\n",
       "    </tr>\n",
       "  </thead>\n",
       "  <tbody>\n",
       "    <tr>\n",
       "      <th>0</th>\n",
       "      <td>AARON,  ELVIA J</td>\n",
       "      <td>WATER RATE TAKER</td>\n",
       "      <td>WATER MGMNT</td>\n",
       "      <td>81000.0</td>\n",
       "      <td>73862.0</td>\n",
       "    </tr>\n",
       "    <tr>\n",
       "      <th>1</th>\n",
       "      <td>AARON,  JEFFERY M</td>\n",
       "      <td>POLICE OFFICER</td>\n",
       "      <td>POLICE</td>\n",
       "      <td>74628.0</td>\n",
       "      <td>74628.0</td>\n",
       "    </tr>\n",
       "    <tr>\n",
       "      <th>2</th>\n",
       "      <td>AARON,  KIMBERLEI R</td>\n",
       "      <td>CHIEF CONTRACT EXPEDITER</td>\n",
       "      <td>FLEET MANAGEMNT</td>\n",
       "      <td>77280.0</td>\n",
       "      <td>70174.0</td>\n",
       "    </tr>\n",
       "    <tr>\n",
       "      <th>3</th>\n",
       "      <td>ABAD JR,  VICENTE M</td>\n",
       "      <td>CIVIL ENGINEER IV</td>\n",
       "      <td>WATER MGMNT</td>\n",
       "      <td>96276.0</td>\n",
       "      <td>96276.0</td>\n",
       "    </tr>\n",
       "    <tr>\n",
       "      <th>4</th>\n",
       "      <td>ABBATACOLA,  ROBERT J</td>\n",
       "      <td>ELECTRICAL MECHANIC</td>\n",
       "      <td>WATER MGMNT</td>\n",
       "      <td>84032.0</td>\n",
       "      <td>76627.0</td>\n",
       "    </tr>\n",
       "    <tr>\n",
       "      <th>...</th>\n",
       "      <td>...</td>\n",
       "      <td>...</td>\n",
       "      <td>...</td>\n",
       "      <td>...</td>\n",
       "      <td>...</td>\n",
       "    </tr>\n",
       "    <tr>\n",
       "      <th>34213</th>\n",
       "      <td>ZYMANTAS,  MARK E</td>\n",
       "      <td>POLICE OFFICER</td>\n",
       "      <td>POLICE</td>\n",
       "      <td>74628.0</td>\n",
       "      <td>74628.0</td>\n",
       "    </tr>\n",
       "    <tr>\n",
       "      <th>34214</th>\n",
       "      <td>ZYNIEWICZ,  ROBERT J</td>\n",
       "      <td>CONSTRUCTION LABORER</td>\n",
       "      <td>WATER MGMNT</td>\n",
       "      <td>73216.0</td>\n",
       "      <td>66764.0</td>\n",
       "    </tr>\n",
       "    <tr>\n",
       "      <th>34215</th>\n",
       "      <td>ZYRKOWSKI,  CARLO E</td>\n",
       "      <td>POLICE OFFICER</td>\n",
       "      <td>POLICE</td>\n",
       "      <td>77238.0</td>\n",
       "      <td>77238.0</td>\n",
       "    </tr>\n",
       "    <tr>\n",
       "      <th>34216</th>\n",
       "      <td>ZYSKO,  RICHARD</td>\n",
       "      <td>LIEUTENANT</td>\n",
       "      <td>FIRE</td>\n",
       "      <td>101958.0</td>\n",
       "      <td>101958.0</td>\n",
       "    </tr>\n",
       "    <tr>\n",
       "      <th>34217</th>\n",
       "      <td>ZYSKOWSKI,  DARIUSZ</td>\n",
       "      <td>CHIEF DATA BASE ANALYST</td>\n",
       "      <td>DoIT</td>\n",
       "      <td>110352.0</td>\n",
       "      <td>100205.0</td>\n",
       "    </tr>\n",
       "  </tbody>\n",
       "</table>\n",
       "<p>34218 rows × 5 columns</p>\n",
       "</div>"
      ],
      "text/plain": [
       "                        NAME                 JOB TITLE       DEPARTMENT  \\\n",
       "0            AARON,  ELVIA J          WATER RATE TAKER      WATER MGMNT   \n",
       "1          AARON,  JEFFERY M            POLICE OFFICER           POLICE   \n",
       "2        AARON,  KIMBERLEI R  CHIEF CONTRACT EXPEDITER  FLEET MANAGEMNT   \n",
       "3        ABAD JR,  VICENTE M         CIVIL ENGINEER IV      WATER MGMNT   \n",
       "4      ABBATACOLA,  ROBERT J       ELECTRICAL MECHANIC      WATER MGMNT   \n",
       "...                      ...                       ...              ...   \n",
       "34213      ZYMANTAS,  MARK E            POLICE OFFICER           POLICE   \n",
       "34214   ZYNIEWICZ,  ROBERT J      CONSTRUCTION LABORER      WATER MGMNT   \n",
       "34215    ZYRKOWSKI,  CARLO E            POLICE OFFICER           POLICE   \n",
       "34216        ZYSKO,  RICHARD                LIEUTENANT             FIRE   \n",
       "34217    ZYSKOWSKI,  DARIUSZ   CHIEF DATA BASE ANALYST             DoIT   \n",
       "\n",
       "       EMPLOYEE ANNUAL SALARY  ESTIMATED ANNUAL SALARY MINUS FURLOUGHS  \n",
       "0                     81000.0                                  73862.0  \n",
       "1                     74628.0                                  74628.0  \n",
       "2                     77280.0                                  70174.0  \n",
       "3                     96276.0                                  96276.0  \n",
       "4                     84032.0                                  76627.0  \n",
       "...                       ...                                      ...  \n",
       "34213                 74628.0                                  74628.0  \n",
       "34214                 73216.0                                  66764.0  \n",
       "34215                 77238.0                                  77238.0  \n",
       "34216                101958.0                                 101958.0  \n",
       "34217                110352.0                                 100205.0  \n",
       "\n",
       "[34218 rows x 5 columns]"
      ]
     },
     "execution_count": 407,
     "metadata": {},
     "output_type": "execute_result"
    }
   ],
   "source": [
    "ds"
   ]
  },
  {
   "cell_type": "code",
   "execution_count": 408,
   "metadata": {},
   "outputs": [
    {
     "data": {
      "text/html": [
       "<div>\n",
       "<style scoped>\n",
       "    .dataframe tbody tr th:only-of-type {\n",
       "        vertical-align: middle;\n",
       "    }\n",
       "\n",
       "    .dataframe tbody tr th {\n",
       "        vertical-align: top;\n",
       "    }\n",
       "\n",
       "    .dataframe thead th {\n",
       "        text-align: right;\n",
       "    }\n",
       "</style>\n",
       "<table border=\"1\" class=\"dataframe\">\n",
       "  <thead>\n",
       "    <tr style=\"text-align: right;\">\n",
       "      <th></th>\n",
       "      <th>ESTIMATED ANNUAL SALARY MINUS FURLOUGHS</th>\n",
       "      <th>ESTIMATED ANNUAL SALARY MINUS FURLOUGHS</th>\n",
       "    </tr>\n",
       "  </thead>\n",
       "  <tbody>\n",
       "    <tr>\n",
       "      <th>ESTIMATED ANNUAL SALARY MINUS FURLOUGHS</th>\n",
       "      <td>1.0</td>\n",
       "      <td>1.0</td>\n",
       "    </tr>\n",
       "    <tr>\n",
       "      <th>ESTIMATED ANNUAL SALARY MINUS FURLOUGHS</th>\n",
       "      <td>1.0</td>\n",
       "      <td>1.0</td>\n",
       "    </tr>\n",
       "  </tbody>\n",
       "</table>\n",
       "</div>"
      ],
      "text/plain": [
       "                                         ESTIMATED ANNUAL SALARY MINUS FURLOUGHS  \\\n",
       "ESTIMATED ANNUAL SALARY MINUS FURLOUGHS                                      1.0   \n",
       "ESTIMATED ANNUAL SALARY MINUS FURLOUGHS                                      1.0   \n",
       "\n",
       "                                         ESTIMATED ANNUAL SALARY MINUS FURLOUGHS  \n",
       "ESTIMATED ANNUAL SALARY MINUS FURLOUGHS                                      1.0  \n",
       "ESTIMATED ANNUAL SALARY MINUS FURLOUGHS                                      1.0  "
      ]
     },
     "execution_count": 408,
     "metadata": {},
     "output_type": "execute_result"
    }
   ],
   "source": [
    "ds[['ESTIMATED ANNUAL SALARY MINUS FURLOUGHS','ESTIMATED ANNUAL SALARY MINUS FURLOUGHS']].corr()"
   ]
  },
  {
   "cell_type": "code",
   "execution_count": 409,
   "metadata": {},
   "outputs": [],
   "source": [
    "ds.rename(columns = {'Name':'name',\n",
    "                    'JOB TITLE': 'job_title',\n",
    "                    'DEPARTMENT': 'department',\n",
    "                    'EMPLOYEE ANNUAL SALARY':'annual_salary', \n",
    "                    'ESTIMATED ANNUAL SALARY MINUS FURLOUGHS':'net_annual_salary'\n",
    "                     }\n",
    "                    , inplace = True)\n"
   ]
  },
  {
   "cell_type": "code",
   "execution_count": 410,
   "metadata": {},
   "outputs": [
    {
     "data": {
      "text/html": [
       "<div>\n",
       "<style scoped>\n",
       "    .dataframe tbody tr th:only-of-type {\n",
       "        vertical-align: middle;\n",
       "    }\n",
       "\n",
       "    .dataframe tbody tr th {\n",
       "        vertical-align: top;\n",
       "    }\n",
       "\n",
       "    .dataframe thead th {\n",
       "        text-align: right;\n",
       "    }\n",
       "</style>\n",
       "<table border=\"1\" class=\"dataframe\">\n",
       "  <thead>\n",
       "    <tr style=\"text-align: right;\">\n",
       "      <th></th>\n",
       "      <th>NAME</th>\n",
       "      <th>job_title</th>\n",
       "      <th>department</th>\n",
       "      <th>annual_salary</th>\n",
       "      <th>net_annual_salary</th>\n",
       "    </tr>\n",
       "  </thead>\n",
       "  <tbody>\n",
       "    <tr>\n",
       "      <th>0</th>\n",
       "      <td>AARON,  ELVIA J</td>\n",
       "      <td>WATER RATE TAKER</td>\n",
       "      <td>WATER MGMNT</td>\n",
       "      <td>81000.0</td>\n",
       "      <td>73862.0</td>\n",
       "    </tr>\n",
       "    <tr>\n",
       "      <th>1</th>\n",
       "      <td>AARON,  JEFFERY M</td>\n",
       "      <td>POLICE OFFICER</td>\n",
       "      <td>POLICE</td>\n",
       "      <td>74628.0</td>\n",
       "      <td>74628.0</td>\n",
       "    </tr>\n",
       "    <tr>\n",
       "      <th>2</th>\n",
       "      <td>AARON,  KIMBERLEI R</td>\n",
       "      <td>CHIEF CONTRACT EXPEDITER</td>\n",
       "      <td>FLEET MANAGEMNT</td>\n",
       "      <td>77280.0</td>\n",
       "      <td>70174.0</td>\n",
       "    </tr>\n",
       "    <tr>\n",
       "      <th>3</th>\n",
       "      <td>ABAD JR,  VICENTE M</td>\n",
       "      <td>CIVIL ENGINEER IV</td>\n",
       "      <td>WATER MGMNT</td>\n",
       "      <td>96276.0</td>\n",
       "      <td>96276.0</td>\n",
       "    </tr>\n",
       "    <tr>\n",
       "      <th>4</th>\n",
       "      <td>ABBATACOLA,  ROBERT J</td>\n",
       "      <td>ELECTRICAL MECHANIC</td>\n",
       "      <td>WATER MGMNT</td>\n",
       "      <td>84032.0</td>\n",
       "      <td>76627.0</td>\n",
       "    </tr>\n",
       "    <tr>\n",
       "      <th>...</th>\n",
       "      <td>...</td>\n",
       "      <td>...</td>\n",
       "      <td>...</td>\n",
       "      <td>...</td>\n",
       "      <td>...</td>\n",
       "    </tr>\n",
       "    <tr>\n",
       "      <th>34213</th>\n",
       "      <td>ZYMANTAS,  MARK E</td>\n",
       "      <td>POLICE OFFICER</td>\n",
       "      <td>POLICE</td>\n",
       "      <td>74628.0</td>\n",
       "      <td>74628.0</td>\n",
       "    </tr>\n",
       "    <tr>\n",
       "      <th>34214</th>\n",
       "      <td>ZYNIEWICZ,  ROBERT J</td>\n",
       "      <td>CONSTRUCTION LABORER</td>\n",
       "      <td>WATER MGMNT</td>\n",
       "      <td>73216.0</td>\n",
       "      <td>66764.0</td>\n",
       "    </tr>\n",
       "    <tr>\n",
       "      <th>34215</th>\n",
       "      <td>ZYRKOWSKI,  CARLO E</td>\n",
       "      <td>POLICE OFFICER</td>\n",
       "      <td>POLICE</td>\n",
       "      <td>77238.0</td>\n",
       "      <td>77238.0</td>\n",
       "    </tr>\n",
       "    <tr>\n",
       "      <th>34216</th>\n",
       "      <td>ZYSKO,  RICHARD</td>\n",
       "      <td>LIEUTENANT</td>\n",
       "      <td>FIRE</td>\n",
       "      <td>101958.0</td>\n",
       "      <td>101958.0</td>\n",
       "    </tr>\n",
       "    <tr>\n",
       "      <th>34217</th>\n",
       "      <td>ZYSKOWSKI,  DARIUSZ</td>\n",
       "      <td>CHIEF DATA BASE ANALYST</td>\n",
       "      <td>DoIT</td>\n",
       "      <td>110352.0</td>\n",
       "      <td>100205.0</td>\n",
       "    </tr>\n",
       "  </tbody>\n",
       "</table>\n",
       "<p>34218 rows × 5 columns</p>\n",
       "</div>"
      ],
      "text/plain": [
       "                        NAME                 job_title       department  \\\n",
       "0            AARON,  ELVIA J          WATER RATE TAKER      WATER MGMNT   \n",
       "1          AARON,  JEFFERY M            POLICE OFFICER           POLICE   \n",
       "2        AARON,  KIMBERLEI R  CHIEF CONTRACT EXPEDITER  FLEET MANAGEMNT   \n",
       "3        ABAD JR,  VICENTE M         CIVIL ENGINEER IV      WATER MGMNT   \n",
       "4      ABBATACOLA,  ROBERT J       ELECTRICAL MECHANIC      WATER MGMNT   \n",
       "...                      ...                       ...              ...   \n",
       "34213      ZYMANTAS,  MARK E            POLICE OFFICER           POLICE   \n",
       "34214   ZYNIEWICZ,  ROBERT J      CONSTRUCTION LABORER      WATER MGMNT   \n",
       "34215    ZYRKOWSKI,  CARLO E            POLICE OFFICER           POLICE   \n",
       "34216        ZYSKO,  RICHARD                LIEUTENANT             FIRE   \n",
       "34217    ZYSKOWSKI,  DARIUSZ   CHIEF DATA BASE ANALYST             DoIT   \n",
       "\n",
       "       annual_salary  net_annual_salary  \n",
       "0            81000.0            73862.0  \n",
       "1            74628.0            74628.0  \n",
       "2            77280.0            70174.0  \n",
       "3            96276.0            96276.0  \n",
       "4            84032.0            76627.0  \n",
       "...              ...                ...  \n",
       "34213        74628.0            74628.0  \n",
       "34214        73216.0            66764.0  \n",
       "34215        77238.0            77238.0  \n",
       "34216       101958.0           101958.0  \n",
       "34217       110352.0           100205.0  \n",
       "\n",
       "[34218 rows x 5 columns]"
      ]
     },
     "execution_count": 410,
     "metadata": {},
     "output_type": "execute_result"
    }
   ],
   "source": [
    "ds"
   ]
  },
  {
   "cell_type": "code",
   "execution_count": 411,
   "metadata": {},
   "outputs": [],
   "source": [
    "ds.columns = ds.columns.map(lambda x:x.lower())"
   ]
  },
  {
   "cell_type": "code",
   "execution_count": 412,
   "metadata": {},
   "outputs": [
    {
     "data": {
      "text/plain": [
       "Index(['name', 'job_title', 'department', 'annual_salary',\n",
       "       'net_annual_salary'],\n",
       "      dtype='object')"
      ]
     },
     "execution_count": 412,
     "metadata": {},
     "output_type": "execute_result"
    }
   ],
   "source": [
    "ds.columns"
   ]
  },
  {
   "cell_type": "code",
   "execution_count": 413,
   "metadata": {},
   "outputs": [
    {
     "data": {
      "text/plain": [
       "(33908,)"
      ]
     },
     "execution_count": 413,
     "metadata": {},
     "output_type": "execute_result"
    }
   ],
   "source": [
    "ds.name.unique().shape"
   ]
  },
  {
   "cell_type": "code",
   "execution_count": 414,
   "metadata": {},
   "outputs": [
    {
     "data": {
      "text/plain": [
       "POLICE OFFICER                                 10918\n",
       "FIREFIGHTER                                     1242\n",
       "FIREFIGHTER-EMT                                 1198\n",
       "SERGEANT                                        1177\n",
       "MOTOR TRUCK DRIVER                               931\n",
       "                                               ...  \n",
       "WARRANTY CLERK                                     1\n",
       "DIR OF YOUTH SERVICES                              1\n",
       "DEPUTY FIRE COMMISSIONER / EXEC DIR OF OEMC        1\n",
       "OFFICE ADMINISTRATOR                               1\n",
       "VEHICLE REGISTRATION COORD                         1\n",
       "Name: job_title, Length: 1124, dtype: int64"
      ]
     },
     "execution_count": 414,
     "metadata": {},
     "output_type": "execute_result"
    }
   ],
   "source": [
    "ds.job_title.value_counts()"
   ]
  },
  {
   "cell_type": "code",
   "execution_count": 415,
   "metadata": {},
   "outputs": [
    {
     "data": {
      "text/plain": [
       "POLICE                   14147\n",
       "FIRE                      5085\n",
       "STREETS & SAN             2193\n",
       "WATER MGMNT               1834\n",
       "OEMC                      1381\n",
       "AVIATION                  1289\n",
       "TRANSPORTN                1230\n",
       "PUBLIC LIBRARY            1063\n",
       "FAMILY & SUPPORT           863\n",
       "HEALTH                     862\n",
       "FLEET MANAGEMNT            612\n",
       "GENERAL SERVICES           477\n",
       "LAW                        413\n",
       "REVENUE                    411\n",
       "CITY COUNCIL               364\n",
       "BUILDINGS                  291\n",
       "COMMUNITY DEVELOPMENT      236\n",
       "BUSINESS AFFAIRS           191\n",
       "FINANCE                    190\n",
       "CITY CLERK                 127\n",
       "BOARD OF ELECTION          114\n",
       "DoIT                        95\n",
       "IPRA                        87\n",
       "HUMAN RESOURCES             73\n",
       "MAYOR'S OFFICE              73\n",
       "ANIMAL CONTRL               66\n",
       "CULTURAL AFFAIRS            65\n",
       "ENVIRONMENT                 61\n",
       "PROCUREMENT                 59\n",
       "INSPECTOR GEN               54\n",
       "BUDGET & MGMT               50\n",
       "ADMIN HEARNG                40\n",
       "DISABILITIES                33\n",
       "HUMAN RELATIONS             31\n",
       "COMPLIANCE                  25\n",
       "TREASURER                   23\n",
       "BOARD OF ETHICS              7\n",
       "POLICE BOARD                 2\n",
       "LICENSE APPL COMM            1\n",
       "Name: department, dtype: int64"
      ]
     },
     "execution_count": 415,
     "metadata": {},
     "output_type": "execute_result"
    }
   ],
   "source": [
    "ds.department.value_counts()"
   ]
  },
  {
   "cell_type": "code",
   "execution_count": 416,
   "metadata": {},
   "outputs": [
    {
     "data": {
      "text/plain": [
       "<matplotlib.axes._subplots.AxesSubplot at 0x215899c6948>"
      ]
     },
     "execution_count": 416,
     "metadata": {},
     "output_type": "execute_result"
    },
    {
     "data": {
      "image/png": "[encoded data removed]",
      "text/plain": [
       "<Figure size 720x504 with 1 Axes>"
      ]
     },
     "metadata": {},
     "output_type": "display_data"
    }
   ],
   "source": [
    "plt.figure(figsize = (10,7))\n",
    "sb.distplot(ds.net_annual_salary)"
   ]
  },
  {
   "cell_type": "code",
   "execution_count": 417,
   "metadata": {},
   "outputs": [
    {
     "data": {
      "text/plain": [
       "<matplotlib.axes._subplots.AxesSubplot at 0x21584163788>"
      ]
     },
     "execution_count": 417,
     "metadata": {},
     "output_type": "execute_result"
    },
    {
     "data": {
      "image/png": "[encoded data removed]",
      "text/plain": [
       "<Figure size 720x504 with 1 Axes>"
      ]
     },
     "metadata": {},
     "output_type": "display_data"
    }
   ],
   "source": [
    "plt.figure(figsize = (10,7))\n",
    "sb.distplot(ds.annual_salary)"
   ]
  },
  {
   "cell_type": "code",
   "execution_count": 418,
   "metadata": {
    "scrolled": true
   },
   "outputs": [
    {
     "data": {
      "text/plain": [
       "<matplotlib.axes._subplots.AxesSubplot at 0x21588fbc808>"
      ]
     },
     "execution_count": 418,
     "metadata": {},
     "output_type": "execute_result"
    },
    {
     "data": {
      "image/png": "[encoded data removed]",
      "text/plain": [
       "<Figure size 720x504 with 1 Axes>"
      ]
     },
     "metadata": {},
     "output_type": "display_data"
    }
   ],
   "source": [
    "plt.figure(figsize = (10,7))\n",
    "sb.scatterplot(ds.annual_salary, ds.net_annual_salary)"
   ]
  },
  {
   "cell_type": "code",
   "execution_count": 419,
   "metadata": {
    "scrolled": true
   },
   "outputs": [
    {
     "data": {
      "text/html": [
       "<div>\n",
       "<style scoped>\n",
       "    .dataframe tbody tr th:only-of-type {\n",
       "        vertical-align: middle;\n",
       "    }\n",
       "\n",
       "    .dataframe tbody tr th {\n",
       "        vertical-align: top;\n",
       "    }\n",
       "\n",
       "    .dataframe thead tr th {\n",
       "        text-align: left;\n",
       "    }\n",
       "</style>\n",
       "<table border=\"1\" class=\"dataframe\">\n",
       "  <thead>\n",
       "    <tr>\n",
       "      <th></th>\n",
       "      <th>department</th>\n",
       "      <th>job_title</th>\n",
       "      <th colspan=\"3\" halign=\"left\">annual_salary</th>\n",
       "    </tr>\n",
       "    <tr>\n",
       "      <th></th>\n",
       "      <th></th>\n",
       "      <th></th>\n",
       "      <th>count</th>\n",
       "      <th>median</th>\n",
       "      <th>std</th>\n",
       "    </tr>\n",
       "  </thead>\n",
       "  <tbody>\n",
       "    <tr>\n",
       "      <th>0</th>\n",
       "      <td>ADMIN HEARNG</td>\n",
       "      <td>ADMINISTRATIVE ASST II</td>\n",
       "      <td>13</td>\n",
       "      <td>50952.0</td>\n",
       "      <td>3772.960478</td>\n",
       "    </tr>\n",
       "    <tr>\n",
       "      <th>1</th>\n",
       "      <td>ADMIN HEARNG</td>\n",
       "      <td>ADMINISTRATIVE ASST III</td>\n",
       "      <td>4</td>\n",
       "      <td>59928.0</td>\n",
       "      <td>4892.341771</td>\n",
       "    </tr>\n",
       "    <tr>\n",
       "      <th>2</th>\n",
       "      <td>ADMIN HEARNG</td>\n",
       "      <td>ADMINISTRATIVE SERVICES OFFICER II</td>\n",
       "      <td>1</td>\n",
       "      <td>88812.0</td>\n",
       "      <td>NaN</td>\n",
       "    </tr>\n",
       "    <tr>\n",
       "      <th>3</th>\n",
       "      <td>ADMIN HEARNG</td>\n",
       "      <td>ADMINISTRATIVE SUPVSR</td>\n",
       "      <td>1</td>\n",
       "      <td>60408.0</td>\n",
       "      <td>NaN</td>\n",
       "    </tr>\n",
       "    <tr>\n",
       "      <th>4</th>\n",
       "      <td>ADMIN HEARNG</td>\n",
       "      <td>ASST DIR</td>\n",
       "      <td>1</td>\n",
       "      <td>95808.0</td>\n",
       "      <td>NaN</td>\n",
       "    </tr>\n",
       "    <tr>\n",
       "      <th>...</th>\n",
       "      <td>...</td>\n",
       "      <td>...</td>\n",
       "      <td>...</td>\n",
       "      <td>...</td>\n",
       "      <td>...</td>\n",
       "    </tr>\n",
       "    <tr>\n",
       "      <th>2132</th>\n",
       "      <td>WATER MGMNT</td>\n",
       "      <td>WATER QUALITY INSPECTOR</td>\n",
       "      <td>2</td>\n",
       "      <td>54606.0</td>\n",
       "      <td>1790.394370</td>\n",
       "    </tr>\n",
       "    <tr>\n",
       "      <th>2133</th>\n",
       "      <td>WATER MGMNT</td>\n",
       "      <td>WATER QUALITY INSPECTOR I/C</td>\n",
       "      <td>1</td>\n",
       "      <td>63276.0</td>\n",
       "      <td>NaN</td>\n",
       "    </tr>\n",
       "    <tr>\n",
       "      <th>2134</th>\n",
       "      <td>WATER MGMNT</td>\n",
       "      <td>WATER QUALITY MANAGER</td>\n",
       "      <td>1</td>\n",
       "      <td>111216.0</td>\n",
       "      <td>NaN</td>\n",
       "    </tr>\n",
       "    <tr>\n",
       "      <th>2135</th>\n",
       "      <td>WATER MGMNT</td>\n",
       "      <td>WATER RATE TAKER</td>\n",
       "      <td>30</td>\n",
       "      <td>72156.0</td>\n",
       "      <td>6858.173268</td>\n",
       "    </tr>\n",
       "    <tr>\n",
       "      <th>2136</th>\n",
       "      <td>WATER MGMNT</td>\n",
       "      <td>WATER RESEARCH SPECIALIST</td>\n",
       "      <td>1</td>\n",
       "      <td>91260.0</td>\n",
       "      <td>NaN</td>\n",
       "    </tr>\n",
       "  </tbody>\n",
       "</table>\n",
       "<p>2137 rows × 5 columns</p>\n",
       "</div>"
      ],
      "text/plain": [
       "        department                           job_title annual_salary  \\\n",
       "                                                               count   \n",
       "0     ADMIN HEARNG              ADMINISTRATIVE ASST II            13   \n",
       "1     ADMIN HEARNG             ADMINISTRATIVE ASST III             4   \n",
       "2     ADMIN HEARNG  ADMINISTRATIVE SERVICES OFFICER II             1   \n",
       "3     ADMIN HEARNG               ADMINISTRATIVE SUPVSR             1   \n",
       "4     ADMIN HEARNG                            ASST DIR             1   \n",
       "...            ...                                 ...           ...   \n",
       "2132   WATER MGMNT             WATER QUALITY INSPECTOR             2   \n",
       "2133   WATER MGMNT         WATER QUALITY INSPECTOR I/C             1   \n",
       "2134   WATER MGMNT               WATER QUALITY MANAGER             1   \n",
       "2135   WATER MGMNT                    WATER RATE TAKER            30   \n",
       "2136   WATER MGMNT           WATER RESEARCH SPECIALIST             1   \n",
       "\n",
       "                             \n",
       "        median          std  \n",
       "0      50952.0  3772.960478  \n",
       "1      59928.0  4892.341771  \n",
       "2      88812.0          NaN  \n",
       "3      60408.0          NaN  \n",
       "4      95808.0          NaN  \n",
       "...        ...          ...  \n",
       "2132   54606.0  1790.394370  \n",
       "2133   63276.0          NaN  \n",
       "2134  111216.0          NaN  \n",
       "2135   72156.0  6858.173268  \n",
       "2136   91260.0          NaN  \n",
       "\n",
       "[2137 rows x 5 columns]"
      ]
     },
     "execution_count": 419,
     "metadata": {},
     "output_type": "execute_result"
    }
   ],
   "source": [
    "ds.groupby(['department','job_title'] )[['annual_salary']].agg(['count','median', 'std']).reset_index()[['department','job_title',\n",
    "                                                                                                      'annual_salary']]"
   ]
  },
  {
   "cell_type": "code",
   "execution_count": 420,
   "metadata": {},
   "outputs": [],
   "source": [
    "# creating new features using grouped statistics of department and job_title features\n",
    "ds['dept_std_salary'] = ds.groupby(['department'] )['annual_salary'].transform(lambda x:\n",
    "                                                                                  x.std())\n",
    "ds['grouped_std_salary'] = ds.groupby(['department','job_title'] )['annual_salary'].transform(lambda x:\n",
    "                                                                                  x.std())"
   ]
  },
  {
   "cell_type": "code",
   "execution_count": 421,
   "metadata": {
    "scrolled": false
   },
   "outputs": [
    {
     "data": {
      "text/html": [
       "<div>\n",
       "<style scoped>\n",
       "    .dataframe tbody tr th:only-of-type {\n",
       "        vertical-align: middle;\n",
       "    }\n",
       "\n",
       "    .dataframe tbody tr th {\n",
       "        vertical-align: top;\n",
       "    }\n",
       "\n",
       "    .dataframe thead th {\n",
       "        text-align: right;\n",
       "    }\n",
       "</style>\n",
       "<table border=\"1\" class=\"dataframe\">\n",
       "  <thead>\n",
       "    <tr style=\"text-align: right;\">\n",
       "      <th></th>\n",
       "      <th>name</th>\n",
       "      <th>job_title</th>\n",
       "      <th>department</th>\n",
       "      <th>annual_salary</th>\n",
       "      <th>net_annual_salary</th>\n",
       "      <th>dept_std_salary</th>\n",
       "      <th>grouped_std_salary</th>\n",
       "    </tr>\n",
       "  </thead>\n",
       "  <tbody>\n",
       "    <tr>\n",
       "      <th>0</th>\n",
       "      <td>AARON,  ELVIA J</td>\n",
       "      <td>WATER RATE TAKER</td>\n",
       "      <td>WATER MGMNT</td>\n",
       "      <td>81000.0</td>\n",
       "      <td>73862.0</td>\n",
       "      <td>13765.781563</td>\n",
       "      <td>6858.173268</td>\n",
       "    </tr>\n",
       "    <tr>\n",
       "      <th>1</th>\n",
       "      <td>AARON,  JEFFERY M</td>\n",
       "      <td>POLICE OFFICER</td>\n",
       "      <td>POLICE</td>\n",
       "      <td>74628.0</td>\n",
       "      <td>74628.0</td>\n",
       "      <td>19952.060693</td>\n",
       "      <td>6379.696706</td>\n",
       "    </tr>\n",
       "    <tr>\n",
       "      <th>2</th>\n",
       "      <td>AARON,  KIMBERLEI R</td>\n",
       "      <td>CHIEF CONTRACT EXPEDITER</td>\n",
       "      <td>FLEET MANAGEMNT</td>\n",
       "      <td>77280.0</td>\n",
       "      <td>70174.0</td>\n",
       "      <td>19255.477120</td>\n",
       "      <td>NaN</td>\n",
       "    </tr>\n",
       "    <tr>\n",
       "      <th>3</th>\n",
       "      <td>ABAD JR,  VICENTE M</td>\n",
       "      <td>CIVIL ENGINEER IV</td>\n",
       "      <td>WATER MGMNT</td>\n",
       "      <td>96276.0</td>\n",
       "      <td>96276.0</td>\n",
       "      <td>13765.781563</td>\n",
       "      <td>0.000000</td>\n",
       "    </tr>\n",
       "    <tr>\n",
       "      <th>4</th>\n",
       "      <td>ABBATACOLA,  ROBERT J</td>\n",
       "      <td>ELECTRICAL MECHANIC</td>\n",
       "      <td>WATER MGMNT</td>\n",
       "      <td>84032.0</td>\n",
       "      <td>76627.0</td>\n",
       "      <td>13765.781563</td>\n",
       "      <td>0.000000</td>\n",
       "    </tr>\n",
       "    <tr>\n",
       "      <th>...</th>\n",
       "      <td>...</td>\n",
       "      <td>...</td>\n",
       "      <td>...</td>\n",
       "      <td>...</td>\n",
       "      <td>...</td>\n",
       "      <td>...</td>\n",
       "      <td>...</td>\n",
       "    </tr>\n",
       "    <tr>\n",
       "      <th>34213</th>\n",
       "      <td>ZYMANTAS,  MARK E</td>\n",
       "      <td>POLICE OFFICER</td>\n",
       "      <td>POLICE</td>\n",
       "      <td>74628.0</td>\n",
       "      <td>74628.0</td>\n",
       "      <td>19952.060693</td>\n",
       "      <td>6379.696706</td>\n",
       "    </tr>\n",
       "    <tr>\n",
       "      <th>34214</th>\n",
       "      <td>ZYNIEWICZ,  ROBERT J</td>\n",
       "      <td>CONSTRUCTION LABORER</td>\n",
       "      <td>WATER MGMNT</td>\n",
       "      <td>73216.0</td>\n",
       "      <td>66764.0</td>\n",
       "      <td>13765.781563</td>\n",
       "      <td>50.660420</td>\n",
       "    </tr>\n",
       "    <tr>\n",
       "      <th>34215</th>\n",
       "      <td>ZYRKOWSKI,  CARLO E</td>\n",
       "      <td>POLICE OFFICER</td>\n",
       "      <td>POLICE</td>\n",
       "      <td>77238.0</td>\n",
       "      <td>77238.0</td>\n",
       "      <td>19952.060693</td>\n",
       "      <td>6379.696706</td>\n",
       "    </tr>\n",
       "    <tr>\n",
       "      <th>34216</th>\n",
       "      <td>ZYSKO,  RICHARD</td>\n",
       "      <td>LIEUTENANT</td>\n",
       "      <td>FIRE</td>\n",
       "      <td>101958.0</td>\n",
       "      <td>101958.0</td>\n",
       "      <td>16802.121865</td>\n",
       "      <td>2030.081730</td>\n",
       "    </tr>\n",
       "    <tr>\n",
       "      <th>34217</th>\n",
       "      <td>ZYSKOWSKI,  DARIUSZ</td>\n",
       "      <td>CHIEF DATA BASE ANALYST</td>\n",
       "      <td>DoIT</td>\n",
       "      <td>110352.0</td>\n",
       "      <td>100205.0</td>\n",
       "      <td>19292.143444</td>\n",
       "      <td>0.000000</td>\n",
       "    </tr>\n",
       "  </tbody>\n",
       "</table>\n",
       "<p>34218 rows × 7 columns</p>\n",
       "</div>"
      ],
      "text/plain": [
       "                        name                 job_title       department  \\\n",
       "0            AARON,  ELVIA J          WATER RATE TAKER      WATER MGMNT   \n",
       "1          AARON,  JEFFERY M            POLICE OFFICER           POLICE   \n",
       "2        AARON,  KIMBERLEI R  CHIEF CONTRACT EXPEDITER  FLEET MANAGEMNT   \n",
       "3        ABAD JR,  VICENTE M         CIVIL ENGINEER IV      WATER MGMNT   \n",
       "4      ABBATACOLA,  ROBERT J       ELECTRICAL MECHANIC      WATER MGMNT   \n",
       "...                      ...                       ...              ...   \n",
       "34213      ZYMANTAS,  MARK E            POLICE OFFICER           POLICE   \n",
       "34214   ZYNIEWICZ,  ROBERT J      CONSTRUCTION LABORER      WATER MGMNT   \n",
       "34215    ZYRKOWSKI,  CARLO E            POLICE OFFICER           POLICE   \n",
       "34216        ZYSKO,  RICHARD                LIEUTENANT             FIRE   \n",
       "34217    ZYSKOWSKI,  DARIUSZ   CHIEF DATA BASE ANALYST             DoIT   \n",
       "\n",
       "       annual_salary  net_annual_salary  dept_std_salary  grouped_std_salary  \n",
       "0            81000.0            73862.0     13765.781563         6858.173268  \n",
       "1            74628.0            74628.0     19952.060693         6379.696706  \n",
       "2            77280.0            70174.0     19255.477120                 NaN  \n",
       "3            96276.0            96276.0     13765.781563            0.000000  \n",
       "4            84032.0            76627.0     13765.781563            0.000000  \n",
       "...              ...                ...              ...                 ...  \n",
       "34213        74628.0            74628.0     19952.060693         6379.696706  \n",
       "34214        73216.0            66764.0     13765.781563           50.660420  \n",
       "34215        77238.0            77238.0     19952.060693         6379.696706  \n",
       "34216       101958.0           101958.0     16802.121865         2030.081730  \n",
       "34217       110352.0           100205.0     19292.143444            0.000000  \n",
       "\n",
       "[34218 rows x 7 columns]"
      ]
     },
     "execution_count": 421,
     "metadata": {},
     "output_type": "execute_result"
    }
   ],
   "source": [
    "ds"
   ]
  },
  {
   "cell_type": "code",
   "execution_count": 422,
   "metadata": {
    "scrolled": true
   },
   "outputs": [
    {
     "data": {
      "text/plain": [
       "1"
      ]
     },
     "execution_count": 422,
     "metadata": {},
     "output_type": "execute_result"
    }
   ],
   "source": [
    "ds['dept_std_salary'].isnull().sum()"
   ]
  },
  {
   "cell_type": "code",
   "execution_count": 423,
   "metadata": {},
   "outputs": [],
   "source": [
    "#removing null values\n",
    "ds.dept_std_salary.fillna(ds.dept_std_salary.median(), inplace = True)\n",
    "ds.grouped_std_salary.fillna(ds.grouped_std_salary.median(), inplace = True)\n"
   ]
  },
  {
   "cell_type": "code",
   "execution_count": 424,
   "metadata": {},
   "outputs": [
    {
     "data": {
      "text/plain": [
       "<matplotlib.axes._subplots.AxesSubplot at 0x2158cd0b808>"
      ]
     },
     "execution_count": 424,
     "metadata": {},
     "output_type": "execute_result"
    },
    {
     "data": {
      "image/png": "[encoded data removed]",
      "text/plain": [
       "<Figure size 432x288 with 2 Axes>"
      ]
     },
     "metadata": {},
     "output_type": "display_data"
    }
   ],
   "source": [
    "sb.heatmap(ds[['annual_salary','dept_std_salary','grouped_std_salary']].corr(), cmap = 'RdBu', vmin = -1,\n",
    "               vmax = 1, center = 0, annot = True)"
   ]
  },
  {
   "cell_type": "code",
   "execution_count": 425,
   "metadata": {},
   "outputs": [],
   "source": [
    "x_train, x_test, y_train, y_test = train_test_split(ds.drop('net_annual_salary', 1), ds.net_annual_salary,\n",
    "                                                test_size = 0.3, random_state = 42) "
   ]
  },
  {
   "cell_type": "code",
   "execution_count": 426,
   "metadata": {},
   "outputs": [],
   "source": [
    "k = KFold(n_splits = 10, shuffle = True, random_state = 42)"
   ]
  },
  {
   "cell_type": "code",
   "execution_count": 427,
   "metadata": {},
   "outputs": [
    {
     "data": {
      "text/plain": [
       "((23952, 6), (10266, 6), (23952,), (10266,))"
      ]
     },
     "execution_count": 427,
     "metadata": {},
     "output_type": "execute_result"
    }
   ],
   "source": [
    "x_train.shape , x_test.shape, y_train.shape, y_test.shape"
   ]
  },
  {
   "cell_type": "code",
   "execution_count": 428,
   "metadata": {},
   "outputs": [],
   "source": [
    "# removing unnecessary features.\n",
    "x_train = x_train.drop(['name','job_title','department'],axis = 1)\n",
    "x_test = x_test.drop(['name','job_title','department'], axis = 1)"
   ]
  },
  {
   "cell_type": "code",
   "execution_count": 429,
   "metadata": {
    "scrolled": true
   },
   "outputs": [
    {
     "data": {
      "text/plain": [
       "<matplotlib.axes._subplots.AxesSubplot at 0x2158ccbd9c8>"
      ]
     },
     "execution_count": 429,
     "metadata": {},
     "output_type": "execute_result"
    },
    {
     "data": {
      "image/png": "[encoded data removed]",
      "text/plain": [
       "<Figure size 648x432 with 1 Axes>"
      ]
     },
     "metadata": {},
     "output_type": "display_data"
    }
   ],
   "source": [
    "plt.figure(figsize = (9,6))\n",
    "x_train_red.boxplot(list(x_train_red.columns))"
   ]
  },
  {
   "cell_type": "code",
   "execution_count": 430,
   "metadata": {},
   "outputs": [],
   "source": [
    "ds_train = pd.concat([x_train_red, y_train], axis = 1)"
   ]
  },
  {
   "cell_type": "code",
   "execution_count": 431,
   "metadata": {},
   "outputs": [],
   "source": [
    "z = abs(zscore(ds_train))"
   ]
  },
  {
   "cell_type": "code",
   "execution_count": 432,
   "metadata": {},
   "outputs": [],
   "source": [
    "# here we are using z threshold as 3 to filter out outliers.\n",
    "ds_train_new = ds_train[(z<3).all(axis = 1)]"
   ]
  },
  {
   "cell_type": "code",
   "execution_count": 433,
   "metadata": {},
   "outputs": [
    {
     "name": "stdout",
     "output_type": "stream",
     "text": [
      "no. of outliers removed: 1108\n"
     ]
    }
   ],
   "source": [
    "print('no. of outliers removed:',ds_train.shape[0] - ds_train_new.shape[0])"
   ]
  },
  {
   "cell_type": "code",
   "execution_count": 434,
   "metadata": {},
   "outputs": [
    {
     "data": {
      "text/html": [
       "<div>\n",
       "<style scoped>\n",
       "    .dataframe tbody tr th:only-of-type {\n",
       "        vertical-align: middle;\n",
       "    }\n",
       "\n",
       "    .dataframe tbody tr th {\n",
       "        vertical-align: top;\n",
       "    }\n",
       "\n",
       "    .dataframe thead th {\n",
       "        text-align: right;\n",
       "    }\n",
       "</style>\n",
       "<table border=\"1\" class=\"dataframe\">\n",
       "  <thead>\n",
       "    <tr style=\"text-align: right;\">\n",
       "      <th></th>\n",
       "      <th>annual_salary</th>\n",
       "      <th>dept_std_salary</th>\n",
       "      <th>grouped_std_salary</th>\n",
       "      <th>net_annual_salary</th>\n",
       "    </tr>\n",
       "  </thead>\n",
       "  <tbody>\n",
       "    <tr>\n",
       "      <th>28944</th>\n",
       "      <td>79926.0</td>\n",
       "      <td>19952.060693</td>\n",
       "      <td>6379.696706</td>\n",
       "      <td>79926.0</td>\n",
       "    </tr>\n",
       "    <tr>\n",
       "      <th>31799</th>\n",
       "      <td>84032.0</td>\n",
       "      <td>13765.781563</td>\n",
       "      <td>0.000000</td>\n",
       "      <td>76627.0</td>\n",
       "    </tr>\n",
       "    <tr>\n",
       "      <th>9857</th>\n",
       "      <td>50952.0</td>\n",
       "      <td>20673.835409</td>\n",
       "      <td>4300.269405</td>\n",
       "      <td>50952.0</td>\n",
       "    </tr>\n",
       "    <tr>\n",
       "      <th>826</th>\n",
       "      <td>98766.0</td>\n",
       "      <td>19952.060693</td>\n",
       "      <td>3170.155357</td>\n",
       "      <td>98766.0</td>\n",
       "    </tr>\n",
       "    <tr>\n",
       "      <th>34105</th>\n",
       "      <td>79926.0</td>\n",
       "      <td>16802.121865</td>\n",
       "      <td>3714.007803</td>\n",
       "      <td>79926.0</td>\n",
       "    </tr>\n",
       "    <tr>\n",
       "      <th>...</th>\n",
       "      <td>...</td>\n",
       "      <td>...</td>\n",
       "      <td>...</td>\n",
       "      <td>...</td>\n",
       "    </tr>\n",
       "    <tr>\n",
       "      <th>16850</th>\n",
       "      <td>93933.0</td>\n",
       "      <td>16247.511626</td>\n",
       "      <td>0.000000</td>\n",
       "      <td>85655.0</td>\n",
       "    </tr>\n",
       "    <tr>\n",
       "      <th>6265</th>\n",
       "      <td>40019.0</td>\n",
       "      <td>22911.851559</td>\n",
       "      <td>0.000000</td>\n",
       "      <td>36493.0</td>\n",
       "    </tr>\n",
       "    <tr>\n",
       "      <th>11284</th>\n",
       "      <td>82878.0</td>\n",
       "      <td>19952.060693</td>\n",
       "      <td>6379.696706</td>\n",
       "      <td>82878.0</td>\n",
       "    </tr>\n",
       "    <tr>\n",
       "      <th>860</th>\n",
       "      <td>88872.0</td>\n",
       "      <td>18396.600551</td>\n",
       "      <td>8795.025282</td>\n",
       "      <td>88872.0</td>\n",
       "    </tr>\n",
       "    <tr>\n",
       "      <th>15795</th>\n",
       "      <td>79926.0</td>\n",
       "      <td>16802.121865</td>\n",
       "      <td>9630.100253</td>\n",
       "      <td>79926.0</td>\n",
       "    </tr>\n",
       "  </tbody>\n",
       "</table>\n",
       "<p>22844 rows × 4 columns</p>\n",
       "</div>"
      ],
      "text/plain": [
       "       annual_salary  dept_std_salary  grouped_std_salary  net_annual_salary\n",
       "28944        79926.0     19952.060693         6379.696706            79926.0\n",
       "31799        84032.0     13765.781563            0.000000            76627.0\n",
       "9857         50952.0     20673.835409         4300.269405            50952.0\n",
       "826          98766.0     19952.060693         3170.155357            98766.0\n",
       "34105        79926.0     16802.121865         3714.007803            79926.0\n",
       "...              ...              ...                 ...                ...\n",
       "16850        93933.0     16247.511626            0.000000            85655.0\n",
       "6265         40019.0     22911.851559            0.000000            36493.0\n",
       "11284        82878.0     19952.060693         6379.696706            82878.0\n",
       "860          88872.0     18396.600551         8795.025282            88872.0\n",
       "15795        79926.0     16802.121865         9630.100253            79926.0\n",
       "\n",
       "[22844 rows x 4 columns]"
      ]
     },
     "execution_count": 434,
     "metadata": {},
     "output_type": "execute_result"
    }
   ],
   "source": [
    "ds_train_new"
   ]
  },
  {
   "cell_type": "code",
   "execution_count": 435,
   "metadata": {},
   "outputs": [],
   "source": [
    "# oultier-free data set\n",
    "x_train_new = ds_train_new.iloc[:,0:-1]\n",
    "y_train_new = ds_train_new.iloc[:,-1]"
   ]
  },
  {
   "cell_type": "code",
   "execution_count": 436,
   "metadata": {},
   "outputs": [],
   "source": [
    "# label encoding 'dept_std_salary' and 'grouped_std_salary' columns.\n",
    "encode = LabelEncoder()"
   ]
  },
  {
   "cell_type": "code",
   "execution_count": 437,
   "metadata": {},
   "outputs": [],
   "source": [
    "x_train_new['dept_std_salary'] = encode.fit_transform(x_train_new['dept_std_salary'].values)\n",
    "x_train_new['grouped_std_salary'] = encode.fit_transform(x_train_new['grouped_std_salary'].values)"
   ]
  },
  {
   "cell_type": "code",
   "execution_count": 438,
   "metadata": {},
   "outputs": [],
   "source": [
    "x_test['dept_std_salary'] = encode.fit_transform(x_test['dept_std_salary'].values)\n",
    "x_test['grouped_std_salary'] = encode.fit_transform(x_test['grouped_std_salary'].values)"
   ]
  },
  {
   "cell_type": "code",
   "execution_count": 439,
   "metadata": {},
   "outputs": [
    {
     "data": {
      "text/plain": [
       "((22844, 3), (22844,))"
      ]
     },
     "execution_count": 439,
     "metadata": {},
     "output_type": "execute_result"
    }
   ],
   "source": [
    "x_train_new.shape, y_train_new.shape "
   ]
  },
  {
   "cell_type": "markdown",
   "metadata": {},
   "source": [
    "###  Base Model Evaluation"
   ]
  },
  {
   "cell_type": "code",
   "execution_count": 440,
   "metadata": {
    "scrolled": true
   },
   "outputs": [
    {
     "name": "stdout",
     "output_type": "stream",
     "text": [
      "model: RandomForestRegressor(random_state=42)\n",
      "CV score:0.9987417775920058\n",
      "score_std: 0.0003389922905463517\n",
      "----------\n",
      "model: LinearRegression()\n",
      "CV score:0.9794744041478891\n",
      "score_std: 0.0011387433421210455\n",
      "----------\n",
      "model: SVR()\n",
      "CV score:0.10350497468958349\n",
      "score_std: 0.009473392983078187\n",
      "----------\n",
      "model: AdaBoostRegressor()\n",
      "CV score:0.9802561880307907\n",
      "score_std: 0.0012851223905372433\n",
      "----------\n",
      "model: GradientBoostingRegressor(random_state=42)\n",
      "CV score:0.9959311427625943\n",
      "score_std: 0.0003734896622620533\n",
      "----------\n",
      "model: KNeighborsRegressor()\n",
      "CV score:0.9978273549910301\n",
      "score_std: 0.0003413524674708015\n",
      "----------\n",
      "model: XGBRegressor()\n",
      "CV score:0.995837162294988\n",
      "score_std: 0.00038733897195764743\n",
      "----------\n"
     ]
    },
    {
     "data": {
      "image/png": "[encoded data removed]",
      "text/plain": [
       "<Figure size 720x504 with 1 Axes>"
      ]
     },
     "metadata": {},
     "output_type": "display_data"
    }
   ],
   "source": [
    "rfc = RandomForestRegressor(random_state = 42)\n",
    "svm = SVR()\n",
    "lr = LinearRegression()\n",
    "adaboost =  AdaBoostRegressor()\n",
    "gboost = GradientBoostingRegressor(random_state = 42)\n",
    "knn = KNeighborsRegressor()\n",
    "xgb = xgboost.XGBRegressor()\n",
    "\n",
    "models = [rfc, lr, svm, adaboost, gboost, knn, xgb]\n",
    "\n",
    "scores = []\n",
    "for model in models:\n",
    "    \n",
    "    score = cross_val_score(model, x_train_new, y_train_new, cv = k, scoring = 'r2', n_jobs = -1 )\n",
    "    mean_score = score.mean()\n",
    "    std_score = score.std()\n",
    "    \n",
    "    print('model: {}'.format(model))\n",
    "    print('CV score:{}'.format(mean_score))\n",
    "    print('score_std:',std_score)\n",
    "    print('----------')\n",
    "    scores.append(score)\n",
    "    \n",
    "fig = plt.figure()\n",
    "fig.suptitle('Base model Comparison', fontsize = 15)\n",
    "ax = fig.add_subplot(111)\n",
    "plt.boxplot(scores)\n",
    "ax.set_xticklabels(['rfc', 'lgr','svm', 'adaboost', 'gboost', 'knn', 'xgb', 'gnb'],\n",
    "                  fontsize = 15)\n",
    "fig.set_size_inches(10,7)\n",
    "plt.show() "
   ]
  },
  {
   "cell_type": "markdown",
   "metadata": {},
   "source": [
    "Based on above result we  choose rfc, gboost, knn models for further tuning."
   ]
  },
  {
   "cell_type": "markdown",
   "metadata": {},
   "source": [
    "### Hyper-parameter tuning"
   ]
  },
  {
   "cell_type": "code",
   "execution_count": 441,
   "metadata": {},
   "outputs": [],
   "source": [
    "param_knn = dict(n_neighbors = np.arange(1,101,1), algorithm = ['auto','ball_tree','kd_tree','brute'],\n",
    "                leaf_size = [25,30,35], p = [1,2], weights = ['uniform','distance'])\n",
    "\n",
    "param_rfc = dict(n_estimators = [10,15,20,25,30], criterion = ['mse', 'mae'],\n",
    "                max_depth = [3,4,5,6,7,None],min_samples_split = [2,3,4],\n",
    "                min_samples_leaf = [1,2,3], random_state = [41,42,43])\n",
    "\n",
    "param_gboost =  dict(\n",
    "   learning_rate = [0.05, 0.10, 0.15, 0.20, 0.25, 0.30 ],\n",
    "   max_depth = [ 3, 4, 5, 6, 8, 10, 12, 15],\n",
    "   n_estimators = [100, 150, 200],\n",
    "   min_samples_split = [1,2,3],\n",
    "   min_samples_leaf = [1,2])"
   ]
  },
  {
   "cell_type": "code",
   "execution_count": 442,
   "metadata": {},
   "outputs": [],
   "source": [
    "model_param_list = [(knn,param_knn), (gboost,param_gboost), (rfc,param_rfc)]"
   ]
  },
  {
   "cell_type": "code",
   "execution_count": 443,
   "metadata": {},
   "outputs": [
    {
     "name": "stdout",
     "output_type": "stream",
     "text": [
      "model: KNeighborsRegressor()\n",
      "best_cvscore: 0.9984675456381684\n",
      "best_param: {'weights': 'distance', 'p': 1, 'n_neighbors': 22, 'leaf_size': 30, 'algorithm': 'ball_tree'}\n",
      "\n",
      "\n",
      "model: GradientBoostingRegressor(random_state=42)\n",
      "best_cvscore: 0.9993247443955431\n",
      "best_param: {'n_estimators': 200, 'min_samples_split': 2, 'min_samples_leaf': 1, 'max_depth': 6, 'learning_rate': 0.25}\n",
      "\n",
      "\n",
      "model: RandomForestRegressor(random_state=42)\n",
      "best_cvscore: 0.9946185488052418\n",
      "best_param: {'random_state': 42, 'n_estimators': 15, 'min_samples_split': 3, 'min_samples_leaf': 3, 'max_depth': 7, 'criterion': 'mae'}\n",
      "\n",
      "\n",
      "best_estimators: [KNeighborsRegressor(algorithm='ball_tree', n_neighbors=22, p=1,\n",
      "                    weights='distance'), GradientBoostingRegressor(learning_rate=0.25, max_depth=6, n_estimators=200,\n",
      "                          random_state=42), RandomForestRegressor(criterion='mae', max_depth=7, min_samples_leaf=3,\n",
      "                      min_samples_split=3, n_estimators=15, random_state=42)]\n",
      "Wall time: 5min 50s\n"
     ]
    }
   ],
   "source": [
    "%%time\n",
    "best_estimator_list = []\n",
    "for model, param in model_param_list:\n",
    "    \n",
    "    r_rearch = RandomizedSearchCV(model, param, cv = k, n_jobs = -1, scoring = 'r2',\n",
    "                                 random_state = 42)\n",
    "    r_rearch.fit(x_train_new, y_train_new.values.ravel())\n",
    "    best_cvscore = r_rearch.best_score_\n",
    "    best_param = r_rearch.best_params_\n",
    "    best_estimator = r_rearch.best_estimator_\n",
    "    best_estimator_list.append(best_estimator)\n",
    "    \n",
    "    print('model:',model)\n",
    "    print('best_cvscore:',best_cvscore)\n",
    "    print('best_param:', best_param)\n",
    "    print('\\n')\n",
    "    \n",
    "print('best_estimators:',best_estimator_list)"
   ]
  },
  {
   "cell_type": "markdown",
   "metadata": {},
   "source": [
    "### Testing"
   ]
  },
  {
   "cell_type": "code",
   "execution_count": 444,
   "metadata": {
    "scrolled": true
   },
   "outputs": [
    {
     "name": "stdout",
     "output_type": "stream",
     "text": [
      "model KNeighborsRegressor(algorithm='ball_tree', n_neighbors=22, p=1,\n",
      "                    weights='distance')\n",
      "accuracy %: 99.9992476131325\n",
      "\n",
      "\n",
      "model GradientBoostingRegressor(learning_rate=0.25, max_depth=6, n_estimators=200,\n",
      "                          random_state=42)\n",
      "accuracy %: 99.9901301481006\n",
      "\n",
      "\n",
      "model RandomForestRegressor(criterion='mae', max_depth=7, min_samples_leaf=3,\n",
      "                      min_samples_split=3, n_estimators=15, random_state=42)\n",
      "accuracy %: 99.4857268964557\n",
      "\n",
      "\n"
     ]
    }
   ],
   "source": [
    "for model in best_estimator_list:\n",
    "    model.fit(x_train_new, y_train_new)\n",
    "    y_pred = model.predict(x_train_new)\n",
    "    score = r2_score(y_train_new, y_pred)\n",
    "    print('model',model)\n",
    "    print('accuracy %:', score*100)\n",
    "    print('\\n')\n"
   ]
  },
  {
   "cell_type": "code",
   "execution_count": 445,
   "metadata": {},
   "outputs": [
    {
     "name": "stdout",
     "output_type": "stream",
     "text": [
      "model KNeighborsRegressor(algorithm='ball_tree', n_neighbors=22, p=1,\n",
      "                    weights='distance')\n",
      "accuracy %: 98.92739450071491\n",
      "\n",
      "\n",
      "model GradientBoostingRegressor(learning_rate=0.25, max_depth=6, n_estimators=200,\n",
      "                          random_state=42)\n",
      "accuracy %: 99.19831841729999\n",
      "\n",
      "\n",
      "model RandomForestRegressor(criterion='mae', max_depth=7, min_samples_leaf=3,\n",
      "                      min_samples_split=3, n_estimators=15, random_state=42)\n",
      "accuracy %: 98.82043506355363\n",
      "\n",
      "\n"
     ]
    }
   ],
   "source": [
    "for model in best_estimator_list:\n",
    "    model.fit(x_train_new, y_train_new)\n",
    "    y_pred = model.predict(x_test)\n",
    "    score = r2_score(y_test, y_pred)\n",
    "    print('model',model)\n",
    "    print('accuracy %:', score*100)\n",
    "    print('\\n')"
   ]
  }
 ],
 "metadata": {
  "kernelspec": {
   "display_name": "Python 3",
   "language": "python",
   "name": "python3"
  },
  "language_info": {
   "codemirror_mode": {
    "name": "ipython",
    "version": 3
   },
   "file_extension": ".py",
   "mimetype": "text/x-python",
   "name": "python",
   "nbconvert_exporter": "python",
   "pygments_lexer": "ipython3",
   "version": "3.7.6"
  }
 },
 "nbformat": 4,
 "nbformat_minor": 4
}
